{
 "cells": [
  {
   "cell_type": "markdown",
   "id": "332ba632",
   "metadata": {},
   "source": [
    "\n",
    "<div class=\"alert alert-block alert-info\">\n",
    "   <h2 align=\"center\"> <center><b> Reinforcement Learning Assignment 7 - Model Based Reinforcement Learning </b></center></h2>\n",
    "\n",
    "<br>\n",
    "<center><font size=\"3\">This notebook is a part of teaching material for ELEC-E8125</font></center>\n",
    "<center><font size=\"3\">Sep 4, 2023 - Nov 30, 2023</font></center>\n",
    "<center><font size=\"3\">Aalto University</font></center>\n",
    "</div>\n",
    "\n",
    "\n",
    "<a id='TOC'></a>\n",
    "\n",
    "<div class=\"alert alert-block alert-success\">\n",
    "    \n",
    "# Table of contents\n",
    "* <a href='#1.'> 1. Introduction </a>\n",
    "* <a href='#1.1'> 1.1 Learning Objectives </a>\n",
    "* <a href='#1.2'> 1.2 Code Structure & Files </a>\n",
    "* <a href='#2.'> 2. Cross Entropy Method (CEM) </a>\n",
    "* <a href='#3.'> 3. Submitting </a>\n",
    "* <a href='#3.1'> 3.1 Feedback </a>\n",
    "* <a href='#4.'> References</a>\n",
    "\n",
    "<a href='#T1'><b>Student Task 1.</b> Implementing CEM (30 points)</a>\\\n",
    "<a href='#Q1'><b>Student Question 1.1</b> Changing Number of Samples (10 points)</a>\\\n",
    "<a href='#Q2'><b>Student Question 1.2</b> Model-free vs Mode-based RL (20 points)</a>\n",
    "    \n",
    "**Total Points:** 60"
   ]
  },
  {
   "cell_type": "markdown",
   "id": "013318a6",
   "metadata": {
    "jp-MarkdownHeadingCollapsed": true,
    "tags": []
   },
   "source": [
    "# 1. Introduction <a id='1.'></a>\n",
    "In this exercise we will dive into model-based reinforcement learning. We will implement planning over several time steps. We will use the cross entropy method (CEM) to choose actions at each time step. CEM is often used in model-based reinforcement learning for choosing actions. The main working principles of CEM were explained during the lecture \"Model-based RL\". We use the simulator to simulate state transitions (another possibility would be to learn a dynamics model $s_{t+1} = f(s_t, a_t)$ to simulate state transitions if access to the system dynamics is not available).\n",
    "\n",
    "## 1.1 Learning Objectives: <a id='1.1'></a>\n",
    "- Understand how to get CEM planning working in practice\n",
    "- Understand limitations and advantages of model-based RL using CEM\n",
    "\n",
    "## 1.2 Code Structure & Files <a id='1.2'></a>\n",
    "\n",
    "You don’t have to edit any other file other than ```ex7.ipynb``` to complete this exercise.\n",
    "\n",
    "```\n",
    "├───imgs                 # Images used in notebook\n",
    "│   ex7_CEM.ipynb        # Main assignment file containing tasks <---------\n",
    "│   env.py               # Wrappers for the environment\n",
    "|   simulator.py         # Using the exact environment as the model (simulator)\n",
    "```"
   ]
  },
  {
   "cell_type": "markdown",
   "id": "5197a537",
   "metadata": {},
   "source": [
    "# 2. Cross Entropy Method (CEM) <a id='2.'></a>\n",
    "\n",
    "In this section, we will try to solve the **Cup-Catch** environment from the [DeepMind Control Suite](https://github.com/deepmind/dm_control/tree/main/dm_control/suite) by planning using CEM. \n",
    "\n",
    "In **Cup-Catch**, a ball is attached to a string which hangs from a cup. The goal is to swing the ball into the cup by moving the cup vertically up and down. The task has a sparse reward: 1 when the ball is in the cup, 0 otherwise. In order to save computation time we select an action every six time steps and use a wrapper to repeat the same action 6 times. Therefore, the maximum reward for each actual time step is 6.\n",
    "\n",
    "<br>\n",
    "\n",
    "<div style=\"text-align: center;\">\n",
    "    <img src=\"imgs/cup_catcher.png\" width=\"400px\">\n",
    "    <figcaption> Figure 1: Cup-Catch environment </figcaption>\n",
    "</div>"
   ]
  },
  {
   "cell_type": "markdown",
   "id": "3e72ec92",
   "metadata": {},
   "source": [
    "<a id='T1'></a>\n",
    "<div class=\" alert alert-warning\">\n",
    "    <h3><b>Student Task 1.</b> Implementing CEM (30 points) </h3> \n",
    "\n",
    "You need to complete the planning part in the code marked as ```TODO```. The code takes advantage of multiple processor cores by parallelizing the code. For more information about parallelizing, please check [Joblib](https://joblib.readthedocs.io/en/latest/generated/joblib.Parallel.html). <br>\n",
    "    \n",
    "**Ensure that the notebook contains the reward plot.** \n",
    "\n",
    "The reference training plot is as Figure 2:\n",
    "\n",
    "<div style=\"text-align: center;\">\n",
    "    <img src=\"imgs/cem_reward.png\">\n",
    "    <figcaption> Figure 2: Reward function at each time step in CEM </figcaption>\n",
    "</div>\n",
    "            \n",
    "🔝\t<a href='#TOC'><b>Table of Contents</b></a>\n",
    "</div>\n"
   ]
  },
  {
   "cell_type": "code",
   "execution_count": 1,
   "id": "eb546a87",
   "metadata": {
    "tags": []
   },
   "outputs": [],
   "source": [
    "from pathlib import Path # to find directory\n",
    "import sys, os\n",
    "sys.path.append(\"..\")\n",
    "\n",
    "from typing import Sequence, Tuple, Dict, Callable, List\n",
    "from functools import partial\n",
    "import copy, torch, time\n",
    "from joblib import Parallel, delayed\n",
    "import numpy as np\n",
    "\n",
    "from env import make_env\n",
    "from simulator import SimulatorWrapper\n",
    "import matplotlib.pyplot as plt"
   ]
  },
  {
   "cell_type": "code",
   "execution_count": 2,
   "id": "60671443-30df-4a7c-bffc-2e88a1fb70c7",
   "metadata": {
    "tags": []
   },
   "outputs": [],
   "source": [
    "%%capture\n",
    "!pip install mediapy # install a package required for video visualization"
   ]
  },
  {
   "cell_type": "code",
   "execution_count": 3,
   "id": "47668253",
   "metadata": {
    "tags": []
   },
   "outputs": [],
   "source": [
    "class CEM(object):\n",
    "    def __init__(\n",
    "        self, \n",
    "        model,\n",
    "        action_shape,\n",
    "        num_samples,\n",
    "        num_topk,\n",
    "        plan_horizon,\n",
    "        iteration,\n",
    "        keep_last_solution,\n",
    "        expl_noise\n",
    "    ):\n",
    "\n",
    "        self.model = model # the dynamics model\n",
    "\n",
    "        self.action_dim = action_shape[0]\n",
    "        self.num_samples = num_samples\n",
    "        self.num_topk = num_topk\n",
    "        self.plan_horizon = plan_horizon\n",
    "        self.iteration = iteration\n",
    "        self.keep_last_solution = keep_last_solution\n",
    "        self.expl_noise = expl_noise\n",
    "\n",
    "        # init simulator\n",
    "        o = self.model.reset()\n",
    "        self.model.save_checkpoint()\n",
    "        \n",
    "    def plan(self, obs, t0, eval_mode=False):\n",
    "        if obs.ndim == 1: obs = obs[None] # add batch dim\n",
    "        # initialize paramters\n",
    "        mean = np.zeros((self.plan_horizon, self.action_dim))\n",
    "        std = np.ones_like(mean)\n",
    "        # use previous plan as start point if not at the first step\n",
    "        if not t0 and hasattr(self, \"_prev_mean\"):\n",
    "            mean[:-1] = copy.copy(self._prev_mean[1:])\n",
    "\n",
    "        with Parallel(n_jobs=-1,) as parallel:  # we use joblib.Parallel to parallel the evaluation.\n",
    "            # Iterate CEM\n",
    "            for _ in range(self.iteration):\n",
    "                # TODO: Implement Cross-Entropy Method\n",
    "                \n",
    "                # Hints: \n",
    "                # 1. Generate random actions using Gaussian distribution with mean and std as parameters. \n",
    "                #    Use self.num_samples as the number of samples. Clip the samples to (-1, 1).\n",
    "                # 2. Perform Monte Carlo evaluation by computing the episode return for each sample using self.model as follows:\n",
    "                #    2.1. Use parallel(delayed(rollout_simulator)(self.model, action_sample) for each sample from 1.\n",
    "                # 3. Select top self.num_topk actions (elite actions) using episode returns from 2.1. Use numpy.argpartition.\n",
    "                # 4. Compute mean and std of elite actions and assign it to mean and std used in 1.\n",
    "                \n",
    "                ########## Your code starts here. ##########\n",
    "                # Your code starts here.\n",
    "                \n",
    "                # Generate random actions\n",
    "                actions = np.random.normal(loc=mean, scale=std, size=(self.num_samples, self.plan_horizon, self.action_dim))\n",
    "                actions = np.clip(actions, -1, 1)\n",
    "\n",
    "                # Evaluate actions using parallel processing\n",
    "                returns = parallel(delayed(rollout_simulator)(self.model, action_sample) for action_sample in actions)\n",
    "\n",
    "                # Select elite actions\n",
    "                elite_indices = np.argpartition(returns, -self.num_topk)[-self.num_topk:]\n",
    "                elite_actions = actions[elite_indices]\n",
    "\n",
    "                # Compute mean and std of elite actions\n",
    "                mean, std = np.mean(elite_actions, axis=0), np.std(elite_actions, axis=0)\n",
    "\n",
    "                ########## Your code ends here. ##########\n",
    "\n",
    "        if self.keep_last_solution:\n",
    "            self._prev_mean = mean\n",
    "\n",
    "        # select the first action in the planed horizon\n",
    "        action, std = mean[0], std[0]\n",
    "\n",
    "        if not eval_mode:\n",
    "            action += self.expl_noise * np.random.randn(action.shape)\n",
    "\n",
    "        # update the simulator state since simulator is used to do planning\n",
    "        next_obs, reward, done, info = self.model.step(action)\n",
    "        self.model.save_checkpoint()\n",
    "        \n",
    "        return action, info  \n",
    "        \n",
    "\n",
    "def rollout_simulator(model, traj):\n",
    "    model.load_checkpoint()\n",
    "\n",
    "    terminated, episode_return = False, 0\n",
    "    for act in traj:\n",
    "        obs, reward, done, _ = model.step(act)\n",
    "        reward = 0 if terminated else reward\n",
    "\n",
    "        terminated |= bool(done)\n",
    "        episode_return += reward\n",
    "        \n",
    "        if done: \n",
    "            break\n",
    "        \n",
    "    return episode_return"
   ]
  },
  {
   "cell_type": "code",
   "execution_count": 4,
   "id": "ee0dfc4a",
   "metadata": {
    "scrolled": true,
    "tags": []
   },
   "outputs": [],
   "source": [
    "# Note because of the action repeat a reward of 6 can be achieved from multiple steps being taken where the ball in the cup\n",
    "eval_env = make_env(\n",
    "    env_name='cup-catch',\n",
    "    seed=1,\n",
    "    action_repeat=6,\n",
    "    modality='pixels', \n",
    "    frame_stack=1,\n",
    "    img_size=(240, 320)\n",
    ")\n",
    "\n",
    "model_env = make_env(\n",
    "    env_name='cup-catch',\n",
    "    seed=1,\n",
    "    action_repeat=6\n",
    ")\n",
    "\n",
    "obs_shape = tuple(int(x) for x in eval_env.observation_space.shape)\n",
    "action_shape = tuple(int(x)  for x in eval_env.action_space.shape)\n",
    "\n",
    "model = SimulatorWrapper(model_env)\n",
    "\n",
    "agent = CEM(\n",
    "    model=model,\n",
    "    action_shape = action_shape,\n",
    "    num_samples=50,\n",
    "    num_topk=5,\n",
    "    plan_horizon=12,\n",
    "    iteration=5,\n",
    "    keep_last_solution=True,\n",
    "    expl_noise=0.3\n",
    ")"
   ]
  },
  {
   "cell_type": "code",
   "execution_count": 5,
   "id": "d2c5bdc7-3a44-4c6e-9f27-d9550b9cc0a8",
   "metadata": {
    "scrolled": true,
    "tags": []
   },
   "outputs": [
    {
     "name": "stdout",
     "output_type": "stream",
     "text": [
      "Timestep: 0 Reward: 0.0\n",
      "Timestep: 1 Reward: 0.0\n",
      "Timestep: 2 Reward: 0.0\n",
      "Timestep: 3 Reward: 0.0\n",
      "Timestep: 4 Reward: 0.0\n",
      "Timestep: 5 Reward: 0.0\n",
      "Timestep: 6 Reward: 0.0\n",
      "Timestep: 7 Reward: 0.0\n",
      "Timestep: 8 Reward: 0.0\n",
      "Timestep: 9 Reward: 2.0\n",
      "Timestep: 10 Reward: 6.0\n",
      "Timestep: 11 Reward: 6.0\n",
      "Timestep: 12 Reward: 6.0\n",
      "Timestep: 13 Reward: 6.0\n",
      "Timestep: 14 Reward: 6.0\n",
      "Timestep: 15 Reward: 6.0\n",
      "Timestep: 16 Reward: 6.0\n",
      "Timestep: 17 Reward: 6.0\n",
      "Timestep: 18 Reward: 6.0\n",
      "Timestep: 19 Reward: 6.0\n"
     ]
    }
   ],
   "source": [
    "obs, done, ep_reward, t = eval_env.reset(), False, 0, 0\n",
    "rewards, observations = [], []\n",
    "while not done and t < 20:\n",
    "    action, info = agent.plan(obs, eval_mode=True, t0=(t==0))\n",
    "    obs, reward, done, _ = eval_env.step(action)\n",
    "    rewards.append(reward)\n",
    "    observations.append(obs)\n",
    "    \n",
    "    print(f'Timestep: {t} Reward: {reward}')\n",
    "    ep_reward += reward\n",
    "\n",
    "    t += 1"
   ]
  },
  {
   "cell_type": "code",
   "execution_count": 6,
   "id": "b4399036-8ac8-450e-8abc-924b7cdb0d04",
   "metadata": {
    "tags": []
   },
   "outputs": [],
   "source": [
    "import mediapy \n",
    "mediapy.write_video('video.mp4', [observations[i].transpose(1, 2, 0) for i in range(len(observations))], fps=10)"
   ]
  },
  {
   "cell_type": "code",
   "execution_count": 7,
   "id": "04b4f167-2f92-4239-aca4-da38c0923882",
   "metadata": {
    "tags": []
   },
   "outputs": [
    {
     "data": {
      "text/html": [
       "<video controls  >\n",
       " <source src=\"data:video/mp4;base64,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\" type=\"video/mp4\">\n",
       " Your browser does not support the video tag.\n",
       " </video>"
      ],
      "text/plain": [
       "<IPython.core.display.Video object>"
      ]
     },
     "execution_count": 7,
     "metadata": {},
     "output_type": "execute_result"
    }
   ],
   "source": [
    "from IPython.display import Video # to display videos\n",
    "Video(Path().cwd()/'video.mp4', embed=True)"
   ]
  },
  {
   "cell_type": "code",
   "execution_count": 8,
   "id": "1aabdf29-028e-41af-b8fc-57e5eee59c08",
   "metadata": {
    "tags": []
   },
   "outputs": [
    {
     "data": {
      "image/png": "[encoded data removed]",
      "text/plain": [
       "<Figure size 600x400 with 1 Axes>"
      ]
     },
     "metadata": {},
     "output_type": "display_data"
    }
   ],
   "source": [
    "plt.figure(figsize=(6, 4))\n",
    "plt.plot(rewards, linewidth=1.2, color='b')\n",
    "plt.xticks(list(range(0, len(rewards), 2)))\n",
    "plt.xlabel('Time step', fontsize=10)\n",
    "plt.ylabel('Reward', fontsize=10)\n",
    "plt.show()"
   ]
  },
  {
   "cell_type": "markdown",
   "id": "5f76b6fa",
   "metadata": {},
   "source": [
    "<a id='Q1'></a>\n",
    "<div class=\" alert alert-warning\">\n",
    "    <h3><b>Student Question 1</b> Changing Number of Samples (5 points)</h3> \n",
    "\n",
    "Discuss the effect of changing the __number of samples__. How can this affect the performance and running time?            \n",
    "🔝\t<a href='#TOC'><b>Table of Contents</b></a>\n",
    "</div>"
   ]
  },
  {
   "cell_type": "markdown",
   "id": "9496c2df",
   "metadata": {},
   "source": [
    "The number of samples can significantly influence the exploration-exploitation dynamics of the algorithm. Increasing the number of samples enhances exploration by considering a broader range of candidate actions, fostering the discovery of potentially superior strategies. At the same time, this improves the likelihood of finding elite actions with higher rewards. However, we must maintain a balance to prevent excessive exploration, which could increase computational costs without commensurate performance gains. In contrast, a smaller number of samples may result in suboptimal exploitation, where the algorithm may not thoroughly explore the action space, potentially missing out on highly rewarding actions. "
   ]
  },
  {
   "cell_type": "markdown",
   "id": "0611beaf",
   "metadata": {},
   "source": [
    "<a id='Q2'></a>\n",
    "<div class=\" alert alert-warning\">\n",
    "    <h3><b>Student Question 1.2</b> Model-free vs Mode-based RL (20 points)</h3> \n",
    "\n",
    "Assume that the dynamics model $s_{t+1} = f(s_t, a_t)$ (when using a probabilistic dynamics model $P(s_{t+1}| s_t, a_t)$) and reward model $R(s_t, a_t)$ are learned from data during training. CEM with learned models can be used to solve similar tasks as model-free reinforcement learning methods such as DDPG.\n",
    "<br>\n",
    "In what kind of tasks do you expect CEM with learned models to work better than DDPG? In which kind of tasks do you expect DDPG to work better than CEM with learned models in terms of performance and training time? Why?\n",
    "<br>\n",
    "Which parts of CEM with a learned dynamics model need to be taken into account when considering computation time and why?\n",
    "    \n",
    "🔝\t<a href='#TOC'><b>Table of Contents</b></a>\n",
    "</div>"
   ]
  },
  {
   "cell_type": "markdown",
   "id": "6a3d8a7e-4bb1-463e-88ab-62270e20d05e",
   "metadata": {},
   "source": [
    "CEM with learned models outperforms in tasks characterized by complex or non-linear dynamics since it can learn a probabilistic dynamics model (P(st+1|st,at)) during training. This learned model facilitates efficient planning, making CEM well-suited for environments with intricate dynamics. Additionally, CEM can handle varying environments and model uncertainties, due to its reliance on the learned dynamics model. In terms of training time, CEM is expected to offer faster training, particularly in scenarios where the dynamics model can be efficiently learned. Once the model is trained, the planning process in each iteration becomes computationally less demanding compared to model-free methods like DDPG.\n",
    "\n",
    "DDPG is expected to demonstrate better performance in tasks characterized by less predictability or a high degree of stochasticity in the environment. Model-free methods, like DDPG, possess the advantage of directly learning from interactions without relying on a pre-learned dynamics model, making them particularly suitable for these tasks. Additionally, DDPG is specifically designed for environments with continuous action spaces, performing better than CEM in scenarios with such action spaces. However, in terms of training time, DDPG might incur a potentially slower training process, especially in environments where model-free methods need a substantial number of interactions to acquire effective policies. The exploration-exploitation process in DDPG is usually time-consuming, contributing to the potential slowdown in training speed.\n",
    "\n",
    "When considering computation time for CEM with learned models, several factors influence the overall efficiency. The number of iterations in CEM is crucial, as more iterations can potentially lead to better solutions but may incur higher computational costs. The sample size used during each CEM iteration is another critical factor, where a larger sample size enhances exploration but extends the time required for simulation. In the case of a probabilistic dynamics model, the computation time for sampling from its distribution during CEM iterations must be also taken into account, especially since generating samples from a probabilistic model can be more time-consuming than from a deterministic one. The parallelization of CEM, as we implemented, aids in mitigating computation time by concurrently evaluating multiple action sequences. However, it is essential to consider the potential overhead associated with parallelization, such as the coordination and communication required between parallel processes."
   ]
  },
  {
   "cell_type": "markdown",
   "id": "7e950c66-7183-4d2e-afad-76d44e87ea7e",
   "metadata": {
    "tags": []
   },
   "source": [
    "# 3. Submitting <a id='3.'></a>\n",
    "Ensure all tasks and questions (in ```ex7_MCTS.ipynb```) are answered and the relevant plots are recorded in the relevant places. "
   ]
  },
  {
   "cell_type": "markdown",
   "id": "b3e25649-58a0-448c-9fbc-7e055b20bc84",
   "metadata": {},
   "source": [
    "## 3.1 Feedback <a id='3.1'></a>\n",
    "\n",
    "In order to help the staff of the course as well as the forthcoming students, it would be great if you could answer to the following questions in your submission:"
   ]
  },
  {
   "cell_type": "markdown",
   "id": "d7eb0232-db2a-4e14-b075-9ef187b43b4b",
   "metadata": {},
   "source": [
    "1) How much time did you spend solving this exercise? (change the ```hrs``` variable below to a floating point number representing the number of hours taken e.g. 5.43)\n"
   ]
  },
  {
   "cell_type": "code",
   "execution_count": null,
   "id": "eac81f90-8902-4ed9-922b-b8ded5327c8f",
   "metadata": {},
   "outputs": [],
   "source": [
    "hrs = 5"
   ]
  },
  {
   "cell_type": "markdown",
   "id": "52473cec-5ab3-439f-97ee-85c8796ec469",
   "metadata": {},
   "source": [
    "2) Difficulty of each task/question from 1-5 (int or float)"
   ]
  },
  {
   "cell_type": "code",
   "execution_count": null,
   "id": "d71b2268-cbe3-4df8-a6d0-665aa425f738",
   "metadata": {},
   "outputs": [],
   "source": [
    "T1 = 3 # Student Task 1. Implementing CEM\n",
    "Q1 = 4 # Question 1.1: Number of samples\n",
    "Q2 = 4 # Question 2.1: Model-free vs Model-based"
   ]
  },
  {
   "cell_type": "markdown",
   "id": "52f3e791-b9fc-479c-871d-df4c85ab7dce",
   "metadata": {},
   "source": [
    "3) How well did you understand the content of the task/question from 1-5? (int or float)\n"
   ]
  },
  {
   "cell_type": "code",
   "execution_count": null,
   "id": "62c8c9dd-26cb-4188-90e1-b7fad675da51",
   "metadata": {},
   "outputs": [],
   "source": [
    "T1 = 5 # Student Task 1. Implementing CEM\n",
    "Q1 = 4 # Question 1.1: Number of samples\n",
    "Q2 = 4 # Question 2.1: Model-free vs Model-based"
   ]
  },
  {
   "cell_type": "markdown",
   "id": "3f11c47c-3716-4642-adc5-c4569ac5fd8f",
   "metadata": {},
   "source": [
    "4) General feedback. Consider questions like:\n",
    "\n",
    "    - Did the content of the lecture relate well with the assignment?\n",
    "    - To what extent did you find the material to be potentially useful for your research and studies?\n",
    "    \n",
    "And other feedback you think is worth including. Type in the box below"
   ]
  },
  {
   "cell_type": "markdown",
   "id": "8f9fd0e4-b0fe-4b59-8c8a-c0a51c24d5fe",
   "metadata": {
    "tags": []
   },
   "source": [
    "Please use the following section to record references.\n",
    "# References <a id='4.'></a>\n",
    "\n"
   ]
  },
  {
   "cell_type": "markdown",
   "id": "2552605a-ecef-401e-ae00-7a7009725bd4",
   "metadata": {},
   "source": []
  },
  {
   "cell_type": "markdown",
   "id": "8cb61e66",
   "metadata": {},
   "source": [
    "## 3.1 Feedback <a id='3.1'></a>\n",
    "In order to help the staff of the course as well as the forthcoming students, it would be great if you could\n",
    "answer feedback questionnaire in ```feedback.ipynb```"
   ]
  }
 ],
 "metadata": {
  "kernelspec": {
   "display_name": "Python 3",
   "language": "python",
   "name": "python3"
  },
  "language_info": {
   "codemirror_mode": {
    "name": "ipython",
    "version": 3
   },
   "file_extension": ".py",
   "mimetype": "text/x-python",
   "name": "python",
   "nbconvert_exporter": "python",
   "pygments_lexer": "ipython3",
   "version": "3.10.8"
  }
 },
 "nbformat": 4,
 "nbformat_minor": 5
}
