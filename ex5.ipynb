{
 "cells": [
  {
   "cell_type": "markdown",
   "id": "e9b29c9b",
   "metadata": {},
   "source": [
    "\n",
    "<div class=\"alert alert-block alert-info\">\n",
    "   <h2 align=\"center\"> <center><b> Reinforcement Learning Assignment 5 - Policy Gradient </b></center></h2>\n",
    "\n",
    "<br>\n",
    "<center><font size=\"3\">This notebook is a part of teaching material for ELEC-E8125</font></center>\n",
    "<center><font size=\"3\">Sep 4, 2023 - Nov 30, 2023</font></center>\n",
    "<center><font size=\"3\">Aalto University</font></center>\n",
    "</div>\n",
    "\n",
    "\n",
    "<a id='TOC'></a>\n",
    "\n",
    "<div class=\"alert alert-block alert-success\">\n",
    " \n",
    "# Table of contents\n",
    "* <a href='#1.'> 1. Introduction </a>\n",
    "* <a href='#1.1'> 1.1 Learning Objectives </a>\n",
    "* <a href='#1.2'> 1.2 Code Structure & Files </a>\n",
    "* <a href='#2.'> 2. Policy gradient with and without baseline</a>\n",
    "* <a href='#2.1'> 2.1 Training Loop</a>\n",
    "* <a href='#2.2'> 2.2 Policy with Fixed Variance </a>\n",
    "* <a href='#2.3'> 2.3 PG Objects</a>\n",
    "* <a href='#3.'> 3. Choosing the value of variance </a>\n",
    "* <a href='#3.1'> 3.1 Policy with Learned Variance </a>\n",
    "* <a href='#4.'> 4. PG and experience replay </a>\n",
    "* <a href='#5.'> 5. Real-world control problems </a>\n",
    "* <a href='#6.'> 6. Discrete action spaces </a>\n",
    "* <a href='#7.'> 7. Submitting </a>\n",
    "* <a href='#7.1'> 7.1 Feedback </a>\n",
    "* <a href='#8.'> References</a>\n",
    "\n",
    "<a href='#T1'><b>Student Task 1.</b> Implementing Reinforce PG algorithm </a>\\\n",
    "<a href='#T1a'><b>Student Task 1a.</b> Basic REINFORCE without baseline (15 points) </a>\\\n",
    "<a href='#T1b'><b>Student Task 1b.</b> REINFORCE with a constant baseline b = 20 (5 points) </a>\\\n",
    "<a href='#T1c'><b>Student Task 1c.</b> REINFORCE with discounted rewards normalized to zero mean and unit variance (5 points) </a>\\\n",
    "<a href='#Q1'><b>Student Question 1.1</b> A good baseline (15 points) </a>\\\n",
    "<a href='#T2'><b>Student Task 2.</b> Making Variance a Learnable Parameter (10 points) </a>\\\n",
    "<a href='#Q2'><b>Student Question 2.1</b> Constant vs Learnable Variance (5 points) </a>\\\n",
    "<a href='#Q3'><b>Student Question 2.2</b> Learnable Variance Initial Performance (5 points) </a> \\\n",
    "<a href='#Q4'><b>Student Question 3.</b> Considering a experience reply buffer (15 points)</a>\\\n",
    "<a href='#Q5'><b>Student Question 4.1</b> Considering an unbounded continuous action space part 1(5 points) </a>\\\n",
    "<a href='#Q6'><b>Student Question 4.2</b> Considering an unbounded continuous action space part 2 (10 points) </a>\\\n",
    "<a href='#Q7'><b>Student Question 5.</b> Considering discrete action spaces (10 points)</a>\n",
    "    \n",
    "**Total Points:** 100"
   ]
  },
  {
   "cell_type": "markdown",
   "id": "50c043fb",
   "metadata": {},
   "source": [
    "# 1. Introduction <a id='1.'></a>\n",
    "In this exercise, we will implement the REINFORCE policy gradient algorithm for [InvertedPendulum environment](https://gymnasium.farama.org/environments/mujoco/inverted_pendulum/). The InvertedPendulum is similar to the previously used CartPole environment, except it has a continuous action space: the action can now have values in a range of [−3,3]. The action value represents a numerical force applied to the cart, with magnitude representing the amount of force and sign representing the direction.\n",
    "\n",
    "## 1.2 Learning Objectives <a id='1.2'></a>\n",
    "- To understand how policy gradient works\n",
    "- To implement the REINFORCE policy gradient algorithm\n",
    "- To understand the limits and use cases of policy gradient\n",
    "\n",
    "## 1.3 Code Structure and Files <a id='1.3'></a>\n",
    "You don’t have to edit any other file other than ```ex5.ipynb``` to complete this exercise.\n",
    "```\n",
    "├───cfg                  # Config files for environments e.g. define the maximum number of steps in an episode.\n",
    "├───imgs                 # Images used in notebook\n",
    "├───results \n",
    "│   ├───logging          # Contains logged data\n",
    "│   ├───model            # Contains the policies learned\n",
    "│   └───video            # Contains videos for each environment\n",
    "│       └───InvertedPendulum-v4\n",
    "│       │  └───test      # Videos saved during testing\n",
    "│       │  └───train     # Videos saved during training\n",
    "│   ex5.ipynb            # Main assignment file containing tasks <---------\n",
    "│   setup.py             # Contains setup function\n",
    "│   utils.py             # Contains useful functions \n",
    "```\n",
    "---\n",
    "The foundational class, `PG`, stands as the base class for the Policy Gradient. Three additional classes - `PGNoBase(PG)`, `PGBase20(PG)`, and `PGGamma(PG)` - inherit from this base class. Each class corresponds to a different variant of the policy gradient:\n",
    "\n",
    "- `PGNoBase(PG)`: Implements the vanilla Policy Gradient without a baseline.\n",
    "- `PGBase20(PG)`: Utilizes a baseline of 20.\n",
    "- `PGGamma(PG)`: Employs PG gamma with discounted rewards normalized to zero mean and unit variance.\n",
    "\n",
    "# 2. Policy gradient with and without baseline <a id='2.'></a>"
   ]
  },
  {
   "cell_type": "markdown",
   "id": "7aabd7b5",
   "metadata": {
    "tags": []
   },
   "source": [
    "<a id='T1'></a>\n",
    "<div class=\" alert alert-warning\">\n",
    "    <h3><b>Student Task 1.</b> Implementing Reinforce PG algorithm (25 points) </h3> \n",
    "\n",
    "Implement the REINFORCE policy gradient algorithm to balance the InvertedPendulum. \n",
    "<br> Use constant standard deviation $\\sigma = 1$ (i.e. $\\log(\\sigma) = 0$) for the output action distribution throughout the training. Implement:\n",
    "\n",
    "&nbsp;&nbsp;&nbsp;&nbsp;&nbsp;&nbsp; (a) basic REINFORCE without baseline (15 points),\n",
    "\n",
    "&nbsp;&nbsp;&nbsp;&nbsp;&nbsp;&nbsp; (b) REINFORCE with a constant baseline b = 20 (5 points),\n",
    "\n",
    "&nbsp;&nbsp;&nbsp;&nbsp;&nbsp;&nbsp; (c) REINFORCE with discounted rewards normalized to zero mean and unit variance (5 points),\n",
    "    \n",
    "**Complete the all the unfinished implementation in following cells (marked with ```TODOs```)**. \n",
    "    \n",
    "1. **Train Loop Function**: Finalize the `train_iteration(agent, env)` function to establish the training loop, similarly to how it was done in Exercise 1.\n",
    "2. **Policy Class with Fixed Variance**: Complete the `PolicyFixedVar(nn.Module)` class to generate a policy with a fixed variance.\n",
    "3. **Get Action Method**: Finish the `get_action(self, observation, evaluation=False)` method within the `PG` class, ensuring it can be inherited effectively.\n",
    "4. **Complete PG Classes**: Implepment the `PGNoBase(PG)`, `PGBase20(PG)`, and `PGGamma(PG)` classes, each tailored with a different baseline.\n",
    "\n",
    "**Hint:** The ```class PolicyFixedVar(nn.Module)```  contains a basic neural network structure. And we include reasonable\n",
    "hyperparameters in the ```cfg``` folder.\n",
    "\n",
    "**Hint:** Your policy should output a probability distribution over actions. A suitable and straightforward choice is to use a normal distribution (`from torch.distributions import Normal`). Compute log probabilities using the `log_prob` function of the distribution. We strongly recommend you to read the official PyTorch documentation to learn how to use the distributions and related functions.\n",
    "    \n",
    "🔝\t<a href='#TOC'><b>Table of Contents</b></a>\n",
    "</div>\n"
   ]
  },
  {
   "cell_type": "code",
   "execution_count": 2,
   "id": "46471b1e-91d6-48bb-bb0d-f3de4be1aa79",
   "metadata": {
    "tags": []
   },
   "outputs": [],
   "source": [
    "# Importing system and path-related modules\n",
    "import sys\n",
    "import os\n",
    "sys.path.insert(0, os.path.abspath(\"..\"))\n",
    "\n",
    "# Importing PyTorch related modules\n",
    "import torch\n",
    "from torch import nn\n",
    "from torch.distributions import Normal\n",
    "import torch.nn.functional as F\n",
    "\n",
    "# Importing other third-party modules\n",
    "import numpy as np\n",
    "import yaml\n",
    "from pathlib import Path\n",
    "from IPython.display import Video  # to display videos\n",
    "\n",
    "# Importing local utility modules\n",
    "import utils as u\n",
    "from setup import setup\n",
    "\n",
    "# Setting the device for storing tensors/calculations\n",
    "device = 'cpu'"
   ]
  },
  {
   "cell_type": "markdown",
   "id": "a55e45ae",
   "metadata": {
    "tags": []
   },
   "source": [
    "## 2.1 Training Loop <a id='2.1'></a>\n",
    "\n",
    "In the subsequent cell, a foundational framework is provided for training a Reinforcement Learning (RL) agent employing the REINFORCE algorithm. It is constructed to efficiently monitor the agent's progress and performance throughout the training phase. Please complete the training loop, marked with `TODO`, to finalize the setup for the agent’s training process."
   ]
  },
  {
   "cell_type": "code",
   "execution_count": 3,
   "id": "428ff872",
   "metadata": {
    "tags": []
   },
   "outputs": [],
   "source": [
    "def to_numpy(tensor):\n",
    "    \"\"\"\n",
    "    Convert a PyTorch tensor to a NumPy array.\n",
    "\n",
    "    :param tensor: A PyTorch tensor.\n",
    "    :return: The converted NumPy array.\n",
    "    \"\"\"\n",
    "    # Squeeze the tensor, move it to CPU and convert to NumPy array\n",
    "    return tensor.squeeze(0).cpu().numpy()\n",
    "\n",
    "\n",
    "def train_iteration(agent, env):\n",
    "    # Policy training function\n",
    "\n",
    "    # Reset the environment and observe the initial state\n",
    "    reward_sum, timesteps, done = 0, 0, False\n",
    "    obs, _ = env.reset(seed=409)\n",
    "\n",
    "    while not done:\n",
    "        # TODO: Task 1: finish the train loop, including \n",
    "        # 1. Call agent.get_action to get action and log prob of the action\n",
    "        # 2. Call env.step with the action (note: you need to convert the action into a numpy array -- use the function to_numpy for this)\n",
    "        #   (Steps 1. and 2. you can also find from the 'test' function below)\n",
    "        # 3. Store the log prob of action and reward by calling agent.record\n",
    "        # 4. Update reward_sum by adding the reward received from env.step, and increase timesteps by one\n",
    "        # 5. Use the observation you receive from env.step to call agent.get_action for the next timestep \n",
    "        #   (Hint: ensure to use the `.copy()` method to avoid unexpected behavior due to aliasing.)\n",
    "\n",
    "        ########### Your code starts here ###########\n",
    "        # Get action from the agent\n",
    "        action, act_logprob = agent.get_action(obs, evaluation=False)\n",
    "\n",
    "        # Perform the action on the environment, get new state and reward\n",
    "        observation, reward, done, _, info = env.step(to_numpy(action))\n",
    "    \n",
    "        # Store agent's and env's outcome (so that the agent can improve its policy)\n",
    "        agent.record(act_logprob,reward)\n",
    "\n",
    "        # Store total episode reward\n",
    "        reward_sum+=reward\n",
    "        timesteps+=1\n",
    " \n",
    "        # update observation\n",
    "        obs=observation.copy()\n",
    "\n",
    "        ########## Your codes ends here. ##########\n",
    "        if timesteps >= 1000:\n",
    "            done = True\n",
    "            \n",
    "    # Update the policy after one episode\n",
    "    info = agent.update()\n",
    "\n",
    "    # Return stats of training\n",
    "    info.update({'timesteps': timesteps,\n",
    "                'ep_reward': reward_sum,})\n",
    "    return info\n",
    "\n",
    "\n",
    "def train(agent_class, cfg_path, cfg_args={}):\n",
    "    env, cfg = setup(cfg_path, cfg_args=cfg_args)\n",
    "    performance_data = []\n",
    "    \n",
    "    if cfg.save_logging: \n",
    "        u.make_dir(Path().cwd()/'results'/cfg.env_name/\"logging\")\n",
    "        L = u.Logger() # create a simple logger to record stats\n",
    "        \n",
    "    # Get state and action dimensionality\n",
    "    state_dim = env.observation_space.shape[0]\n",
    "    action_dim = env.action_space.shape[0]\n",
    "\n",
    "    # Initialise the policy gradient agent\n",
    "    agent = agent_class(state_dim, action_dim, float(cfg.lr), float(cfg.gamma))\n",
    "    \n",
    "    for ep in range(cfg.train_episodes):\n",
    "        # collect data and update the policy\n",
    "        train_info = train_iteration(agent, env)\n",
    "        train_info.update({'episodes': ep})\n",
    "\n",
    "        if cfg.save_logging:\n",
    "            L.log(**train_info)\n",
    "        if (not cfg.silent) and (ep % 100 == 0):\n",
    "            print({\"ep\": ep, **train_info})\n",
    "\n",
    "        performance_data.append(train_info)\n",
    "        \n",
    "    u.plot_training_data(performance_data)\n",
    "    if cfg.save_model:\n",
    "        agent.save(cfg.model_path)\n",
    "    \n",
    "    print(\"Training complete!\")\n",
    "    \n",
    "\n",
    "# Function to test a trained policy\n",
    "@torch.no_grad()\n",
    "def test(agent_class, cfg_path, cfg_args={}, num_episodes=5):\n",
    "    env, cfg = setup(cfg_path, cfg_args=cfg_args)\n",
    "    \n",
    "    # Get state and action dimensionality\n",
    "    state_dim = env.observation_space.shape[0]\n",
    "    action_dim = env.action_space.shape[0]\n",
    "\n",
    "    # Initialise the policy gradient agent\n",
    "    agent = agent_class(state_dim, action_dim, float(cfg.lr), float(cfg.gamma))\n",
    "    \n",
    "    print(\"Loading model from\", cfg.model_path, \"...\")\n",
    "    agent.load(cfg.model_path)\n",
    "        \n",
    "    total_test_reward = 0\n",
    "    for ep in range(num_episodes):\n",
    "        (obs, _), done = env.reset(), False\n",
    "        test_reward = 0\n",
    "        timesteps = 0\n",
    "        \n",
    "        while not done:\n",
    "            # Similar to the training loop above -\n",
    "            # get the action, act on the environment, save total reward\n",
    "            # (evaluation=True makes the agent always return what it thinks to be\n",
    "            # the best action - there is no exploration at this point)\n",
    "            action, _ = agent.get_action(obs, evaluation=True)\n",
    "            obs, reward, done, _, info = env.step(to_numpy(action))\n",
    "            timesteps += 1\n",
    "            test_reward += reward\n",
    "            \n",
    "            if timesteps >= 1000:\n",
    "                done = True\n",
    "                \n",
    "        total_test_reward += test_reward\n",
    "\n",
    "        print(\"Test ep_reward:\", test_reward)\n",
    "\n",
    "    print(\"Average test reward:\", total_test_reward/num_episodes)"
   ]
  },
  {
   "cell_type": "markdown",
   "id": "ac054ea1",
   "metadata": {},
   "source": [
    "## 2.2 Policy with Fixed Variance <a id='2.2'></a>\n",
    "\n",
    "This code is designed to establish a neural network policy where the variance is constant. The `PolicyFixedVar` class, which is a subclass of `nn.Module`, defines this policy. The policy uses a neural network to map states to actions, outputting a normal distribution with a mean and a standard deviation. \n",
    "\n",
    "#### Task:\n",
    "1. **Implementing actor_logstd:**\n",
    "   - Initialize `self.actor_logstd` as a torch tensor with zeros, ensuring to set the `device` parameter for appropriate storage.\n",
    "\n",
    "2. **Create and Return Distribution:**\n",
    "   - In the `forward` method, create a Normal distribution (`probs`) with the computed `action_mean` and `action_std`. This distribution represents the policy’s output given a state input."
   ]
  },
  {
   "cell_type": "code",
   "execution_count": 4,
   "id": "77a5cc6b",
   "metadata": {
    "tags": []
   },
   "outputs": [],
   "source": [
    "# Initialisation function for neural network layers\n",
    "def layer_init(layer, std=np.sqrt(2), bias_const=0.0):\n",
    "    torch.nn.init.orthogonal_(layer.weight, std)\n",
    "    torch.nn.init.constant_(layer.bias, bias_const)\n",
    "    return layer\n",
    "\n",
    "\n",
    "# This class defines the neural network policy\n",
    "class PolicyFixedVar(nn.Module):\n",
    "    def __init__(self, state_dim, action_dim):\n",
    "        super(PolicyFixedVar, self).__init__()\n",
    "\n",
    "        # Initialise a neural network with two hidden layers (64 neurons per layer)\n",
    "        self.actor_mean = nn.Sequential(\n",
    "            layer_init(nn.Linear(state_dim, 64)),\n",
    "            nn.Tanh(),\n",
    "            layer_init(nn.Linear(64, 64)),\n",
    "            nn.Tanh(),\n",
    "            layer_init(nn.Linear(64, action_dim), std=0.01),\n",
    "        )\n",
    "\n",
    "        # TODO: Task 1: Implement actor_logstd as a torch tensor. \n",
    "        # Hint: when creating the torch tensor, remember to set the parameter device=device \n",
    "        #       so the tensor is stored correctly on CUDA (if applicable) \n",
    "        ########## Your code starts here. ###########\n",
    "        self.actor_logstd=torch.zeros(action_dim, device=device)\n",
    "        ########## Your code ends here. ##########\n",
    "\n",
    "    # Do a forward pass to map state to action\n",
    "    def forward(self, state):\n",
    "        # Get mean of a Normal distribution (the output of the neural network)\n",
    "        action_mean = self.actor_mean(state)\n",
    "\n",
    "        # Make sure action_logstd matches dimension of action_mean\n",
    "        action_logstd = self.actor_logstd.expand_as(action_mean)\n",
    "\n",
    "        # Exponentiate the log std to get actual std\n",
    "        action_std = torch.exp(action_logstd)\n",
    "\n",
    "        # TODO: Task 1: Create a Normal distribution with mean of 'action_mean' and standard deviation of 'action_std', and return the distribution\n",
    "        ########## Your code starts here. ###########\n",
    "        action_dist=torch.distributions.Normal(action_mean, action_std)\n",
    "        ########## Your code ends here. ##########\n",
    "        return action_dist"
   ]
  },
  {
   "cell_type": "markdown",
   "id": "4de05f7e",
   "metadata": {},
   "source": [
    "## 2.3 PG Objects <a id='2.3'></a>\n",
    "\n",
    "The `PG` class is defined as the Policy Gradient base class. This class forms the foundation for implementing policy gradient algorithms, providing a structured format and placeholders for essential functions and variables used in these algorithms. The methods within this class will be used to interact with, update, and manage the policy used by the agent to make decisions in the environment.\n",
    "\n",
    "Task: Implementing the `get_action` Method."
   ]
  },
  {
   "cell_type": "code",
   "execution_count": 5,
   "id": "7e300959",
   "metadata": {
    "tags": []
   },
   "outputs": [],
   "source": [
    "# Class for the Policy Gradient algorithm\n",
    "class PG(object):\n",
    "    def __init__(self, state_dim, action_dim, lr, gamma):\n",
    "        # Define the neural network policy with fixed variance \n",
    "        self.policy = PolicyFixedVar(state_dim, action_dim).to(device)\n",
    "\n",
    "        # Create an optimizer\n",
    "        self.optimizer = torch.optim.Adam(self.policy.parameters(), lr=lr)\n",
    "\n",
    "        # Set discount factor value\n",
    "        self.gamma = gamma\n",
    "\n",
    "        # Simple buffers for action probabilities and rewards\n",
    "        self.action_probs = []\n",
    "        self.rewards = []\n",
    "\n",
    "    def update(self):\n",
    "        pass\n",
    "\n",
    "    def record(self, action_prob, reward):\n",
    "        \"\"\" Store agent's and env's outcomes to update the agent.\"\"\"\n",
    "        self.action_probs.append(action_prob)\n",
    "        self.rewards.append(torch.tensor([reward]))\n",
    "\n",
    "    def save(self, filepath):\n",
    "        torch.save(self.policy.state_dict(), filepath)\n",
    "\n",
    "    def load(self, filepath):\n",
    "        self.policy.load_state_dict(torch.load(filepath))\n",
    "    \n",
    "    def get_action(self, observation, evaluation=False):\n",
    "        \"\"\"Return action and logprob of this action.\"\"\"\n",
    "\n",
    "        # Add batch dimension if necessary\n",
    "        if observation.ndim == 1: \n",
    "            observation = observation[None]\n",
    "\n",
    "        # Convert observation to a torch tensor\n",
    "        x = torch.from_numpy(observation).float().to(device)\n",
    "\n",
    "        # TODO: Task 1: Calculate action and its log_prob\n",
    "        ########## Your code starts here. ###########\n",
    "        # Hint: \n",
    "        #   1. when evaluation=True, return mean, otherwise return samples from the distribution created in self.policy.forward() function.\n",
    "        #   2. notice the shape of action and act_logprob.\n",
    "        \n",
    "        # Pass state x through the policy network (T1)\n",
    "        probs = self.policy.forward(x)\n",
    "        \n",
    "        # Return mean if evaluation, else sample from the distribution\n",
    "        if evaluation:\n",
    "            action= probs.mean\n",
    "        else:            \n",
    "           \n",
    "            action=probs.sample()            \n",
    "        #action=torch.reshape(action, (1,))\n",
    "        \n",
    "        # Calculate the log probability of the action (T1)\n",
    "        act_logprob= probs.log_prob(action).sum(dim=1)\n",
    "        #print(act_logprob.size())\n",
    "        #print(probs.mean, probs.sample())\n",
    "            \n",
    "        ########## Your code ends here. ##########\n",
    "        \n",
    "        if observation.ndim == 1: \n",
    "            action = action[0]\n",
    "            act_logprob=act_logprob[0]\n",
    "            \n",
    "        #print(action.size())\n",
    "        #print(action)\n",
    "\n",
    "        return action, act_logprob"
   ]
  },
  {
   "cell_type": "markdown",
   "id": "61981975",
   "metadata": {},
   "source": [
    "<a id='T1a'></a>\n",
    "<div class=\" alert alert-warning\">\n",
    "    <h3><b>Student Task 1a.</b> Basic REINFORCE without baseline (15 points) </h3> \n",
    "The training performance plot might look like Figure 1a. \n",
    "    <figure style=\"text-align: center\">\n",
    "    <img src=\"imgs/PGNoBase.svg\" width=\"600px\">\n",
    "    <figcaption style=\"text-align: center\"> Figure 1a: REINFORCE without baseline. </figcaption>\n",
    "    </figure>\n",
    "    \n",
    "🔝\t<a href='#TOC'><b>Table of Contents</b></a>\n",
    "</div>\n"
   ]
  },
  {
   "cell_type": "code",
   "execution_count": 6,
   "id": "e164da7c",
   "metadata": {
    "tags": []
   },
   "outputs": [],
   "source": [
    "class PGNoBase(PG):\n",
    "    def __init__(self, state_dim, action_dim, lr, gamma):\n",
    "        super().__init__(state_dim, action_dim, lr, gamma)\n",
    "    \n",
    "    def update(self):\n",
    "        # Prepare dataset used to update policy\n",
    "        action_probs = torch.stack(self.action_probs, dim=0).to(device).squeeze() # shape: [batch_size,]\n",
    "        rewards = torch.stack(self.rewards, dim=0).to(device).squeeze() # shape [batch_size,]\n",
    "        self.action_probs, self.rewards = [], [] # clean buffers\n",
    "        \n",
    "        # TODO: Task 1: Implement the policy gradient\n",
    "        ########## Your code starts here. ##########\n",
    "        # Hints:\n",
    "        #   1. compute discounted rewards (use the discount_rewards function offered in utils.py)\n",
    "        #   2. compute the policy gradient loss\n",
    "        #   3. update the parameters (backpropagate gradients, do the optimizer step, empty optimizer gradients afterwards so that gradients don't accumulate over updates)\n",
    "\n",
    "        # Compute discounted rewards \n",
    "        discounted_rewards = u.discount_rewards(rewards, self.gamma)\n",
    "        \n",
    "        # Calculate the PG loss\n",
    "        #_, action_probs = self.get_action()\n",
    "        policy_loss = -(action_probs * discounted_rewards).mean()\n",
    "        \n",
    "        # Backprop gradients          \n",
    "        self.optimizer.zero_grad()\n",
    "        policy_loss.backward()\n",
    "        \n",
    "        # Do the optimizer step   \n",
    "        self.optimizer.step()    \n",
    "\n",
    "        ########## Your code ends here. ##########\n",
    "\n",
    "        # if you want to log something in wandb, you can put them inside the {}, otherwise, just leave it empty.\n",
    "        return {'logstd': self.policy.actor_logstd.cpu().detach().numpy()}"
   ]
  },
  {
   "cell_type": "code",
   "execution_count": 8,
   "id": "2f72fee2",
   "metadata": {
    "tags": []
   },
   "outputs": [
    {
     "name": "stdout",
     "output_type": "stream",
     "text": [
      "Numpy/Torch/Random Seed:  409\n",
      "{'ep': 0, 'logstd': array([0.], dtype=float32), 'timesteps': 5, 'ep_reward': 5.0, 'episodes': 0}\n",
      "{'ep': 100, 'logstd': array([0.], dtype=float32), 'timesteps': 58, 'ep_reward': 58.0, 'episodes': 100}\n",
      "{'ep': 200, 'logstd': array([0.], dtype=float32), 'timesteps': 13, 'ep_reward': 13.0, 'episodes': 200}\n",
      "{'ep': 300, 'logstd': array([0.], dtype=float32), 'timesteps': 96, 'ep_reward': 96.0, 'episodes': 300}\n",
      "{'ep': 400, 'logstd': array([0.], dtype=float32), 'timesteps': 98, 'ep_reward': 98.0, 'episodes': 400}\n",
      "{'ep': 500, 'logstd': array([0.], dtype=float32), 'timesteps': 177, 'ep_reward': 177.0, 'episodes': 500}\n",
      "{'ep': 600, 'logstd': array([0.], dtype=float32), 'timesteps': 1000, 'ep_reward': 1000.0, 'episodes': 600}\n",
      "{'ep': 700, 'logstd': array([0.], dtype=float32), 'timesteps': 1000, 'ep_reward': 1000.0, 'episodes': 700}\n",
      "{'ep': 800, 'logstd': array([0.], dtype=float32), 'timesteps': 1000, 'ep_reward': 1000.0, 'episodes': 800}\n",
      "{'ep': 900, 'logstd': array([0.], dtype=float32), 'timesteps': 131, 'ep_reward': 131.0, 'episodes': 900}\n"
     ]
    },
    {
     "data": {
      "image/png": "[encoded data removed]",
      "text/plain": [
       "<Figure size 450x350 with 1 Axes>"
      ]
     },
     "metadata": {},
     "output_type": "display_data"
    },
    {
     "name": "stdout",
     "output_type": "stream",
     "text": [
      "Training complete!\n"
     ]
    }
   ],
   "source": [
    "train(PGNoBase, cfg_path=Path().cwd() / 'cfg' / 'inverted_pendulum.yaml') # < 7 mins"
   ]
  },
  {
   "cell_type": "code",
   "execution_count": 182,
   "id": "09ab5a2e",
   "metadata": {
    "tags": []
   },
   "outputs": [
    {
     "name": "stdout",
     "output_type": "stream",
     "text": [
      "Numpy/Torch/Random Seed:  409\n",
      "Loading model from /notebooks/rl2023/ex5/results/InvertedPendulum-v4/model/InvertedPendulum-v4_params.pt ...\n",
      "Test ep_reward: 1000.0\n",
      "Test ep_reward: 1000.0\n",
      "Test ep_reward: 1000.0\n",
      "Test ep_reward: 1000.0\n",
      "Test ep_reward: 1000.0\n",
      "Average test reward: 1000.0\n"
     ]
    }
   ],
   "source": [
    "test(PGNoBase, cfg_path=Path().cwd() / 'cfg' / 'inverted_pendulum.yaml', cfg_args=dict(save_video=True, testing=True)) "
   ]
  },
  {
   "cell_type": "code",
   "execution_count": 183,
   "id": "e39a2410-d8ea-4e1f-b10a-e112816124e7",
   "metadata": {
    "tags": []
   },
   "outputs": [
    {
     "data": {
      "text/html": [
       "<video loop autoplay  >\n",
       " <source src=\"data:video/mp4;base64,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\" type=\"video/mp4\">\n",
       " Your browser does not support the video tag.\n",
       " </video>"
      ],
      "text/plain": [
       "<IPython.core.display.Video object>"
      ]
     },
     "execution_count": 183,
     "metadata": {},
     "output_type": "execute_result"
    }
   ],
   "source": [
    "Video(Path().cwd()/'results'/'InvertedPendulum-v4'/'video'/'test'/'ex5-episode-0.mp4',\n",
    "      embed=True, html_attributes=\"loop autoplay\") # Set html_attributes=\"controls\" for video control"
   ]
  },
  {
   "cell_type": "markdown",
   "id": "ea079dc7",
   "metadata": {},
   "source": [
    "<a id='T1b'></a>\n",
    "<div class=\" alert alert-warning\">\n",
    "    <h3><b>Student Task 1b.</b> REINFORCE with a constant baseline b = 20 (5 points) </h3> \n",
    "    The training performance plot might look like Figure 1b.\n",
    "    <figure style=\"text-align: center\" id=\"figure-1b\">\n",
    "        <img src=\"imgs/PGBase20.svg\" width=\"600px\">\n",
    "        <figcaption style=\"text-align: center\"> Figure 1b: REINFORCE with a constant baseline 20. </figcaption>\n",
    "    </figure>\n",
    "    \n",
    "🔝 <a href='#TOC'><b>Table of Contents</b></a>\n",
    "</div>\n",
    "\n"
   ]
  },
  {
   "cell_type": "code",
   "execution_count": 9,
   "id": "3c57e167",
   "metadata": {
    "tags": []
   },
   "outputs": [],
   "source": [
    "class PGBase20(PG):\n",
    "    def __init__(self, state_dim, action_dim, lr, gamma):\n",
    "        super().__init__(state_dim, action_dim, lr, gamma)\n",
    "        \n",
    "    def update(self):\n",
    "        # Prepare dataset used to update policy\n",
    "        action_probs = torch.stack(self.action_probs, dim=0).to(device).squeeze(-1) # shape: [batch_size,]\n",
    "        rewards = torch.stack(self.rewards, dim=0).to(device).squeeze(-1) # shape [batch_size,]\n",
    "        self.action_probs, self.rewards = [], [] # clean buffers\n",
    "        \n",
    "        # TODO: Task 1: Implement the policy gradient\n",
    "        ########## Your code starts here. ##########\n",
    "        # Hints:\n",
    "        #   1. compute discounted rewards (use the discount_rewards function offered in utils.py)\n",
    "        #   2. compute the policy gradient loss with the baseline\n",
    "        #   3. update the parameters (backpropagate gradients, do the optimizer step, empty optimizer gradients afterwards so that gradients don't accumulate over updates)\n",
    "\n",
    "        # Compute discounted rewards \n",
    "        discounted_rewards = u.discount_rewards(rewards, self.gamma)\n",
    "        \n",
    "        # Calculate the PG loss with the baseline\n",
    "        baseline = 20.0\n",
    "        advantage = discounted_rewards - baseline\n",
    "        policy_loss = -(action_probs * advantage).mean()\n",
    "\n",
    "        # Backprop gradients\n",
    "        self.optimizer.zero_grad()\n",
    "        policy_loss.backward()\n",
    "        \n",
    "        # Do the optimizer step\n",
    "        self.optimizer.step()\n",
    "\n",
    "        ########## Your code ends here. ##########\n",
    "\n",
    "        # if you want to log something in wandb, you can put them inside the {}, otherwise, just leave it empty.\n",
    "        return {'logstd': self.policy.actor_logstd.cpu().detach().numpy()}"
   ]
  },
  {
   "cell_type": "code",
   "execution_count": 192,
   "id": "8aa4d283",
   "metadata": {
    "tags": []
   },
   "outputs": [
    {
     "name": "stdout",
     "output_type": "stream",
     "text": [
      "Numpy/Torch/Random Seed:  409\n",
      "{'ep': 0, 'logstd': array([0.], dtype=float32), 'timesteps': 5, 'ep_reward': 5.0, 'episodes': 0}\n",
      "{'ep': 100, 'logstd': array([0.], dtype=float32), 'timesteps': 50, 'ep_reward': 50.0, 'episodes': 100}\n",
      "{'ep': 200, 'logstd': array([0.], dtype=float32), 'timesteps': 52, 'ep_reward': 52.0, 'episodes': 200}\n",
      "{'ep': 300, 'logstd': array([0.], dtype=float32), 'timesteps': 199, 'ep_reward': 199.0, 'episodes': 300}\n",
      "{'ep': 400, 'logstd': array([0.], dtype=float32), 'timesteps': 1000, 'ep_reward': 1000.0, 'episodes': 400}\n",
      "{'ep': 500, 'logstd': array([0.], dtype=float32), 'timesteps': 124, 'ep_reward': 124.0, 'episodes': 500}\n",
      "{'ep': 600, 'logstd': array([0.], dtype=float32), 'timesteps': 1000, 'ep_reward': 1000.0, 'episodes': 600}\n",
      "{'ep': 700, 'logstd': array([0.], dtype=float32), 'timesteps': 1000, 'ep_reward': 1000.0, 'episodes': 700}\n",
      "{'ep': 800, 'logstd': array([0.], dtype=float32), 'timesteps': 394, 'ep_reward': 394.0, 'episodes': 800}\n",
      "{'ep': 900, 'logstd': array([0.], dtype=float32), 'timesteps': 1000, 'ep_reward': 1000.0, 'episodes': 900}\n"
     ]
    },
    {
     "data": {
      "image/png": "[encoded data removed]",
      "text/plain": [
       "<Figure size 450x350 with 1 Axes>"
      ]
     },
     "metadata": {},
     "output_type": "display_data"
    },
    {
     "name": "stdout",
     "output_type": "stream",
     "text": [
      "Training complete!\n"
     ]
    }
   ],
   "source": [
    "train(PGBase20, cfg_path=Path().cwd() / 'cfg' / 'inverted_pendulum.yaml') # < 7 mins"
   ]
  },
  {
   "cell_type": "code",
   "execution_count": 193,
   "id": "48f26f40-49c9-48f3-8543-cae81be8185f",
   "metadata": {
    "tags": []
   },
   "outputs": [
    {
     "name": "stdout",
     "output_type": "stream",
     "text": [
      "Numpy/Torch/Random Seed:  409\n",
      "Loading model from /notebooks/rl2023/ex5/results/InvertedPendulum-v4/model/InvertedPendulum-v4_params.pt ...\n",
      "Test ep_reward: 1000.0\n",
      "Test ep_reward: 1000.0\n",
      "Test ep_reward: 1000.0\n",
      "Test ep_reward: 1000.0\n",
      "Test ep_reward: 1000.0\n",
      "Average test reward: 1000.0\n"
     ]
    }
   ],
   "source": [
    "test(PGBase20, cfg_path=Path().cwd() / 'cfg' / 'inverted_pendulum.yaml', cfg_args=dict(save_video=True, testing=True)) "
   ]
  },
  {
   "cell_type": "code",
   "execution_count": 194,
   "id": "a434d9ef-523c-482a-a2e8-441ac66e15e5",
   "metadata": {
    "tags": []
   },
   "outputs": [
    {
     "data": {
      "text/html": [
       "<video loop autoplay  >\n",
       " <source src=\"data:None;base64,/notebooks/rl2023/ex5/results/InvertedPendulum-v4/video/test/ex5-episode-5.mp4\" type=\"None\">\n",
       " Your browser does not support the video tag.\n",
       " </video>"
      ],
      "text/plain": [
       "<IPython.core.display.Video object>"
      ]
     },
     "execution_count": 194,
     "metadata": {},
     "output_type": "execute_result"
    }
   ],
   "source": [
    "Video(Path().cwd() / 'results' / 'InvertedPendulum-v4' / 'video' / 'test' / 'ex5-episode-5.mp4',\n",
    "      embed=True, html_attributes=\"loop autoplay\") # Set html_attributes=\"controls\" for video control"
   ]
  },
  {
   "cell_type": "markdown",
   "id": "e31c7d2e",
   "metadata": {
    "tags": []
   },
   "source": [
    "<a id='T1c'></a>\n",
    "<div class=\" alert alert-warning\">\n",
    "    <h3><b>Student Task 1c.</b> REINFORCE with discounted rewards normalized to zero mean and unit variance (5 points) </h3> \n",
    "    The training performance plot might look like Figure 1c. \n",
    "    <figure style=\"text-align: center\" id=\"figure-1c\">\n",
    "        <img src=\"imgs/PGGamma.svg\" width=\"600px\">\n",
    "        <figcaption style=\"text-align: center\"> Figure 1c: REINFORCE with discounted rewards normalized to zero mean and unit variance. </figcaption>\n",
    "    </figure>\n",
    "    \n",
    "🔝 <a href='#TOC'><b>Table of Contents</b></a>\n",
    "</div>\n",
    "\n"
   ]
  },
  {
   "cell_type": "code",
   "execution_count": 10,
   "id": "d76bcc3c",
   "metadata": {
    "tags": []
   },
   "outputs": [],
   "source": [
    "class PGNormalized(PG):\n",
    "    def __init__(self, state_dim, action_dim, lr, gamma):\n",
    "        super().__init__(state_dim, action_dim, lr, gamma)\n",
    "        \n",
    "    def update(self):\n",
    "        # Prepare dataset used to update policy\n",
    "        action_probs = torch.stack(self.action_probs, dim=0).to(device).squeeze(-1) # shape: [batch_size,]\n",
    "        rewards = torch.stack(self.rewards, dim=0).to(device).squeeze(-1) # shape [batch_size,]\n",
    "        self.action_probs, self.rewards = [], [] # clean buffers\n",
    "        \n",
    "        # TODO: Task 1: Implement the policy gradient\n",
    "        ########## Your code starts here. ##########\n",
    "        # Hints:\n",
    "        #   1. compute discounted rewards (use the discount_rewards function offered in utils.py)\n",
    "        #   2. compute the policy gradient loss\n",
    "        #   3. update the parameters (backpropagate gradients, do the optimizer step, empty optimizer gradients afterwards so that gradients don't accumulate over updates)\n",
    "        \n",
    "        # Compute discounted rewards and normalize them        \n",
    "        discounted_rewards = u.discount_rewards(rewards, self.gamma)\n",
    "        # Normalize the discounted rewards\n",
    "        mean_rewards = torch.mean(discounted_rewards)\n",
    "        std_rewards = torch.std(discounted_rewards)\n",
    "        normalized_rewards = (discounted_rewards - mean_rewards) / (std_rewards + 1e-8)\n",
    "\n",
    "        # Calculate the PG loss\n",
    "        policy_loss = -(action_probs * normalized_rewards).mean()\n",
    "\n",
    "        # Backprop gradients\n",
    "        self.optimizer.zero_grad()\n",
    "        policy_loss.backward()\n",
    "\n",
    "        # Do the optimizer step\n",
    "        self.optimizer.step()\n",
    "\n",
    "    \n",
    "        ########## Your code ends here. ##########\n",
    "\n",
    "        # if you want to log something in wandb, you can put them inside the {}, otherwise, just leave it empty.\n",
    "        return {'logstd': self.policy.actor_logstd.cpu().detach().numpy()}"
   ]
  },
  {
   "cell_type": "code",
   "execution_count": 196,
   "id": "8e236519-8afb-4ec7-ba87-3181bf822576",
   "metadata": {
    "tags": []
   },
   "outputs": [
    {
     "name": "stdout",
     "output_type": "stream",
     "text": [
      "Numpy/Torch/Random Seed:  409\n",
      "{'ep': 0, 'logstd': array([0.], dtype=float32), 'timesteps': 5, 'ep_reward': 5.0, 'episodes': 0}\n",
      "{'ep': 100, 'logstd': array([0.], dtype=float32), 'timesteps': 77, 'ep_reward': 77.0, 'episodes': 100}\n",
      "{'ep': 200, 'logstd': array([0.], dtype=float32), 'timesteps': 70, 'ep_reward': 70.0, 'episodes': 200}\n",
      "{'ep': 300, 'logstd': array([0.], dtype=float32), 'timesteps': 1000, 'ep_reward': 1000.0, 'episodes': 300}\n",
      "{'ep': 400, 'logstd': array([0.], dtype=float32), 'timesteps': 1000, 'ep_reward': 1000.0, 'episodes': 400}\n",
      "{'ep': 500, 'logstd': array([0.], dtype=float32), 'timesteps': 1000, 'ep_reward': 1000.0, 'episodes': 500}\n",
      "{'ep': 600, 'logstd': array([0.], dtype=float32), 'timesteps': 1000, 'ep_reward': 1000.0, 'episodes': 600}\n",
      "{'ep': 700, 'logstd': array([0.], dtype=float32), 'timesteps': 1000, 'ep_reward': 1000.0, 'episodes': 700}\n",
      "{'ep': 800, 'logstd': array([0.], dtype=float32), 'timesteps': 1000, 'ep_reward': 1000.0, 'episodes': 800}\n",
      "{'ep': 900, 'logstd': array([0.], dtype=float32), 'timesteps': 1000, 'ep_reward': 1000.0, 'episodes': 900}\n"
     ]
    },
    {
     "data": {
      "image/png": "[encoded data removed]",
      "text/plain": [
       "<Figure size 450x350 with 1 Axes>"
      ]
     },
     "metadata": {},
     "output_type": "display_data"
    },
    {
     "name": "stdout",
     "output_type": "stream",
     "text": [
      "Training complete!\n"
     ]
    }
   ],
   "source": [
    "train(PGNormalized, cfg_path=Path().cwd() / 'cfg' / 'inverted_pendulum.yaml') # < 10 mins"
   ]
  },
  {
   "cell_type": "code",
   "execution_count": 197,
   "id": "9aab775f-bc7e-475f-ac41-7bbf0227bc1a",
   "metadata": {
    "tags": []
   },
   "outputs": [
    {
     "name": "stdout",
     "output_type": "stream",
     "text": [
      "Numpy/Torch/Random Seed:  409\n",
      "Loading model from /notebooks/rl2023/ex5/results/InvertedPendulum-v4/model/InvertedPendulum-v4_params.pt ...\n",
      "Test ep_reward: 1000.0\n",
      "Test ep_reward: 1000.0\n",
      "Test ep_reward: 1000.0\n",
      "Test ep_reward: 1000.0\n",
      "Test ep_reward: 1000.0\n",
      "Average test reward: 1000.0\n"
     ]
    }
   ],
   "source": [
    "test(PGNormalized, cfg_path=Path().cwd() / 'cfg' / 'inverted_pendulum.yaml', cfg_args=dict(save_video=True, testing=True)) "
   ]
  },
  {
   "cell_type": "code",
   "execution_count": 198,
   "id": "9e3bbe30-5d8f-426d-9a76-806e6586a23b",
   "metadata": {
    "tags": []
   },
   "outputs": [
    {
     "data": {
      "text/html": [
       "<video loop autoplay  >\n",
       " <source src=\"data:None;base64,/notebooks/rl2023/ex5/results/InvertedPendulum-v4/video/test/ex5-episode-5.mp4\" type=\"None\">\n",
       " Your browser does not support the video tag.\n",
       " </video>"
      ],
      "text/plain": [
       "<IPython.core.display.Video object>"
      ]
     },
     "execution_count": 198,
     "metadata": {},
     "output_type": "execute_result"
    }
   ],
   "source": [
    "Video(Path().cwd() / 'results' / 'InvertedPendulum-v4' / 'video' / 'test' / 'ex5-episode-5.mp4',\n",
    "      embed=True, html_attributes=\"loop autoplay\") # Set html_attributes=\"controls\" for video control"
   ]
  },
  {
   "cell_type": "markdown",
   "id": "f856d17c",
   "metadata": {},
   "source": [
    "<a id='Q1'></a>\n",
    "<div class=\" alert alert-warning\">\n",
    "    <h3><b>Student Question 1.1</b> A good baseline (15 points) </h3> \n",
    "\n",
    "How would you choose a good value for the baseline? Why is the training more stable when using a baseline? **Justify your answer.**\n",
    "            \n",
    "🔝\t<a href='#TOC'><b>Table of Contents</b></a>\n",
    "</div>"
   ]
  },
  {
   "cell_type": "markdown",
   "id": "2bd5c64e",
   "metadata": {},
   "source": [
    "To choose a good value for the baseline, we could learn to predict the expected return from the state, along with learning the policy and then use this value as the baseline. \n",
    "\n",
    "The training is more stable because when we subtract a baseline from the rewards, we effectively \"center\" the rewards distribution, which leads to stable action-values."
   ]
  },
  {
   "cell_type": "markdown",
   "id": "bda4d734",
   "metadata": {},
   "source": [
    "# 3. Choosing the value of variance <a id='3.'></a>"
   ]
  },
  {
   "cell_type": "markdown",
   "id": "c34d6f9d",
   "metadata": {},
   "source": [
    "<a id='T2'></a>\n",
    "<div class=\" alert alert-warning\">\n",
    "    <h3><b>Student Task 2.</b> Making Variance a Learnable Parameter (10 points) </h3> \n",
    "\n",
    "Implement the policy’s variance as a learnable parameter of the network and update it during training. Set the initial value $\\sigma_0^2$ to 1. REINFORCE with normalized discounted returns is used for this task.\n",
    "\n",
    "**Complete the unfinished implementation in ```PolicyLearnedVar(nn.Module)``` class (marked with ```TODOs```)**. \n",
    "    \n",
    "    \n",
    "**Hint:** To make your learned variance automatically updated by the optimizer, declare your variable inside the ```__init__``` function of the model using ```torch.nn.Parameter(some_tensor)```. \n",
    "    \n",
    "🔝\t<a href='#TOC'><b>Table of Contents</b></a>\n",
    "</div>\n"
   ]
  },
  {
   "cell_type": "markdown",
   "id": "bbc8f47f",
   "metadata": {},
   "source": [
    "## 3.1 Policy with Learned Variance <a id='3.1'></a>"
   ]
  },
  {
   "cell_type": "code",
   "execution_count": 11,
   "id": "5f38d70b",
   "metadata": {
    "tags": []
   },
   "outputs": [],
   "source": [
    "# Initialisation function for neural network layers\n",
    "def layer_init(layer, std=np.sqrt(2), bias_const=0.0):\n",
    "    torch.nn.init.orthogonal_(layer.weight, std)\n",
    "    torch.nn.init.constant_(layer.bias, bias_const)\n",
    "    return layer\n",
    "\n",
    "\n",
    "# This class defines the neural network policy with learned variance\n",
    "class PolicyLearnedVar(nn.Module):\n",
    "    def __init__(self, state_dim, action_dim):\n",
    "        super(PolicyLearnedVar, self).__init__()\n",
    "\n",
    "        # Initialise a neural network with two hidden layers (64 neurons per layer)\n",
    "        self.actor_mean = nn.Sequential(\n",
    "            layer_init(nn.Linear(state_dim, 64)),\n",
    "            nn.Tanh(),\n",
    "            layer_init(nn.Linear(64, 64)),\n",
    "            nn.Tanh(),\n",
    "            layer_init(nn.Linear(64, action_dim), std=0.01),\n",
    "        )\n",
    "\n",
    "        # TODO: Task 2: Implement actor_logstd as a learnable parameter\n",
    "        # Use log of std to make sure std doesn't become negative during training\n",
    "        ########## Your code starts here. ###########    \n",
    "        self.actor_logstd = torch.nn.Parameter(torch.zeros(action_dim))\n",
    "        ########## Your code ends here. ##########\n",
    "        \n",
    "    # Do a forward pass to map state to action\n",
    "    def forward(self, state):\n",
    "        # Get mean of a Normal distribution (the output of the neural network)\n",
    "        action_mean = self.actor_mean(state)\n",
    "\n",
    "        # Make sure action_logstd matches dimension of action_mean\n",
    "        action_logstd = self.actor_logstd.expand_as(action_mean)\n",
    "\n",
    "        # Exponentiate the log std to get actual std\n",
    "        action_std = torch.exp(action_logstd)\n",
    "\n",
    "        # TODO: Task 1: Create a Normal distribution with mean of 'action_mean' and standard deviation of 'action_std', and return the distribution\n",
    "        ########## Your code starts here. ###########\n",
    "        probs = torch.distributions.Normal(action_mean, action_std)\n",
    "        \n",
    "        ########## Your code ends here. ##########\n",
    "        return probs"
   ]
  },
  {
   "cell_type": "markdown",
   "id": "cbe99408-3caa-43d6-aa52-652c9e1b88fe",
   "metadata": {},
   "source": [
    "Initialize the `PG` class to construct the neural network policy. Continue to employ the `get_action` function, as outlined in Task 1."
   ]
  },
  {
   "cell_type": "code",
   "execution_count": 12,
   "id": "304d7def-5ad3-461e-a2c6-216157833223",
   "metadata": {
    "tags": []
   },
   "outputs": [],
   "source": [
    "# Class for the Policy Gradient algorithm\n",
    "class PGLearnedVar(PGNormalized):\n",
    "    def __init__(self, state_dim, action_dim, lr, gamma):\n",
    "        super().__init__(state_dim, action_dim, lr, gamma)\n",
    "        \n",
    "        # TODO: Task 2: Define the neural network policy (self.policy) with learned variance.\n",
    "        self.policy = None\n",
    "        ########## Your code starts here. ###########  \n",
    "        self.policy = PolicyLearnedVar(state_dim, action_dim)\n",
    "       \n",
    "        ########## Your code ends here. ##########\n",
    "\n",
    "        # Create an optimizer\n",
    "        self.optimizer = torch.optim.Adam(self.policy.parameters(), lr=lr)"
   ]
  },
  {
   "cell_type": "code",
   "execution_count": 13,
   "id": "6b7c5cac-1e2f-4224-a503-bc1e27871a09",
   "metadata": {
    "tags": []
   },
   "outputs": [
    {
     "name": "stdout",
     "output_type": "stream",
     "text": [
      "Numpy/Torch/Random Seed:  409\n",
      "{'ep': 0, 'logstd': array([0.002], dtype=float32), 'timesteps': 4, 'ep_reward': 4.0, 'episodes': 0}\n",
      "{'ep': 100, 'logstd': array([-0.02779322], dtype=float32), 'timesteps': 58, 'ep_reward': 58.0, 'episodes': 100}\n",
      "{'ep': 200, 'logstd': array([-0.05860811], dtype=float32), 'timesteps': 170, 'ep_reward': 170.0, 'episodes': 200}\n",
      "{'ep': 300, 'logstd': array([-0.0842777], dtype=float32), 'timesteps': 1000, 'ep_reward': 1000.0, 'episodes': 300}\n",
      "{'ep': 400, 'logstd': array([-0.0980309], dtype=float32), 'timesteps': 1000, 'ep_reward': 1000.0, 'episodes': 400}\n",
      "{'ep': 500, 'logstd': array([-0.11567985], dtype=float32), 'timesteps': 247, 'ep_reward': 247.0, 'episodes': 500}\n",
      "{'ep': 600, 'logstd': array([-0.12961179], dtype=float32), 'timesteps': 1000, 'ep_reward': 1000.0, 'episodes': 600}\n",
      "{'ep': 700, 'logstd': array([-0.1289207], dtype=float32), 'timesteps': 1000, 'ep_reward': 1000.0, 'episodes': 700}\n",
      "{'ep': 800, 'logstd': array([-0.1368347], dtype=float32), 'timesteps': 1000, 'ep_reward': 1000.0, 'episodes': 800}\n",
      "{'ep': 900, 'logstd': array([-0.1402799], dtype=float32), 'timesteps': 1000, 'ep_reward': 1000.0, 'episodes': 900}\n"
     ]
    },
    {
     "data": {
      "image/png": "[encoded data removed]",
      "text/plain": [
       "<Figure size 450x350 with 1 Axes>"
      ]
     },
     "metadata": {},
     "output_type": "display_data"
    },
    {
     "name": "stdout",
     "output_type": "stream",
     "text": [
      "Training complete!\n"
     ]
    }
   ],
   "source": [
    "train(PGLearnedVar, cfg_path=Path().cwd() / 'cfg' / 'inverted_pendulum.yaml') # < 10 mins"
   ]
  },
  {
   "cell_type": "code",
   "execution_count": 14,
   "id": "6b3d4bbd-9d79-4e23-a92a-d593a192a2c7",
   "metadata": {
    "tags": []
   },
   "outputs": [
    {
     "name": "stdout",
     "output_type": "stream",
     "text": [
      "Numpy/Torch/Random Seed:  409\n",
      "Loading model from /notebooks/rl2023/ex5/results/InvertedPendulum-v4/model/InvertedPendulum-v4_params.pt ...\n",
      "Test ep_reward: 1000.0\n",
      "Test ep_reward: 1000.0\n",
      "Test ep_reward: 1000.0\n",
      "Test ep_reward: 1000.0\n",
      "Test ep_reward: 1000.0\n",
      "Average test reward: 1000.0\n"
     ]
    }
   ],
   "source": [
    "test(PGLearnedVar, cfg_path=Path().cwd() / 'cfg' / 'inverted_pendulum.yaml', cfg_args=dict(save_video=True, testing=True))"
   ]
  },
  {
   "cell_type": "code",
   "execution_count": 15,
   "id": "da748d77-46d5-4597-b2f9-d9885ca24e6a",
   "metadata": {
    "tags": []
   },
   "outputs": [
    {
     "data": {
      "text/html": [
       "<video loop autoplay  >\n",
       " <source src=\"data:None;base64,/notebooks/rl2023/ex5/results/InvertedPendulum-v4/video/test/ex5-episode-5.mp4\" type=\"None\">\n",
       " Your browser does not support the video tag.\n",
       " </video>"
      ],
      "text/plain": [
       "<IPython.core.display.Video object>"
      ]
     },
     "execution_count": 15,
     "metadata": {},
     "output_type": "execute_result"
    }
   ],
   "source": [
    "Video(Path().cwd() / 'results' / 'InvertedPendulum-v4' / 'video' / 'test' / 'ex5-episode-5.mp4',\n",
    "      embed=True, html_attributes=\"loop autoplay\") # Set html_attributes=\"controls\" for video control"
   ]
  },
  {
   "cell_type": "markdown",
   "id": "6b3294a4",
   "metadata": {},
   "source": [
    "<a id='Q2'></a>\n",
    "<div class=\" alert alert-warning\">\n",
    "    <h3><b>Student Question 2.1</b> Constant vs Learnable Variance (5 points) </h3> \n",
    "\n",
    "What are the strong and weak sides of using either a) constant variance during training, or b) learning the variance during training? **Please explain.**       \n",
    "🔝\t<a href='#TOC'><b>Table of Contents</b></a>\n",
    "</div>"
   ]
  },
  {
   "cell_type": "markdown",
   "id": "f98b0001",
   "metadata": {},
   "source": [
    "On the one hand, sing a constant variance simplifies the exploration process by maintaining a consistent level of randomness in action selection throughout training. This approach offers an easier implementation and predictable exploration behavior, making it suitable for scenarios where a fixed level of exploration is effective and desired. However, the rigid exploration strategy may struggle to adapt to dynamic or complex environments, and fine-tuning the constant variance can be challenging, potentially leading to high variance in policy gradients and unstable training.\n",
    "\n",
    "On the other hand,  learning the variance during training enhances the adaptability of the agent by allowing them to adjust the exploration level based on the observed data. This approach offers the advantage of adapting to changing environments and complex tasks, resulting in more stable and efficient training. While it introduces complexity and requires the optimization of an additional parameter, the potential for reduced variance in policy gradients and improved performance on challenging tasks makes it a valuable choice for many reinforcement learning problems. Careful hyperparameter tuning and regularization can help mitigate potential drawbacks such as overfitting."
   ]
  },
  {
   "cell_type": "markdown",
   "id": "0f701ff9",
   "metadata": {},
   "source": [
    "<a id='Q3'></a>\n",
    "<div class=\" alert alert-warning\">\n",
    "    <h3><b>Student Question 2.2</b> Learnable Variance Initial Performance (5 points) </h3> \n",
    "\n",
    "In case of a learned variance, what’s the impact of the initialization on the training performance? **Please explain.**  \n",
    "\n",
    "🔝\t<a href='#TOC'><b>Table of Contents</b></a>\n",
    "</div>"
   ]
  },
  {
   "cell_type": "markdown",
   "id": "f90903af",
   "metadata": {},
   "source": [
    "The initialization of the variance parameter can have a significant impact on how the agent explores and adapts during training. If the variance is initialized too high, it can lead to excessive exploration, potentially impeding learning efficiency and stability. Conversely, if the variance is initialized too low, it may result in overly deterministic actions, which can prevent the agent from adequately exploring the environment. Suboptimal initialization can lead to slow convergence or training instability.\n"
   ]
  },
  {
   "cell_type": "markdown",
   "id": "e341103b",
   "metadata": {},
   "source": [
    "# 4. PG and experience replay <a id='4.'></a>"
   ]
  },
  {
   "cell_type": "markdown",
   "id": "6112bc95",
   "metadata": {
    "tags": []
   },
   "source": [
    "<a id='Q4'></a>\n",
    "<div class=\" alert alert-warning\">\n",
    "    <h3><b>Student Question 3.</b> Considering an experience replay buffer (15 points) </h3> \n",
    "\n",
    "Why the method implemented in this exercise could not be **directly** used with an experience replay? Which steps of the algorithm would be problematic to perform with an experience replay? How any problematic steps could be resolved? **Explain your answer**\n",
    "\n",
    "🔝\t<a href='#TOC'><b>Table of Contents</b></a>\n",
    "</div>"
   ]
  },
  {
   "cell_type": "markdown",
   "id": "37f76423",
   "metadata": {},
   "source": [
    "The method implemented in this exercise, based on the REINFORCE algorithm, faces challenges when directly applied with experience replay due to fundamental differences in data collection and update mechanisms. REINFORCE relies on sequentially collected data, updating the policy after each interaction with the environment, maintaining the temporal correlations in the data. In contrast, experience replay stores past experiences and samples them randomly, leading to non-sequential and temporally uncorrelated data. This disrupts the key assumptions of REINFORCE, including the Markovian nature of state transitions and proper credit assignment. The variance in policy gradients, already an issue with REINFORCE, is exacerbated by the non-sequential nature of experience replay. \n",
    "\n",
    "The non-sequential nature of data collection through experience replay disrupts the temporal correlations inherent in REINFORCE and complicates policy updates. Temporal credit assignment, a critical aspect of reinforcement learning, becomes intricate as rewards and actions may not align temporally.\n",
    "\n",
    "To make these two approaches compatible, adaptations such as addressing the non-Markovian data problem (transforming the data to make it compatible ), using importance sampling ( to account for the difference in action probabilities between the old policy and the current policy), and reducing variance (using baselines, such as a learned state-value function, or other variance reduction methods) would be necessary. "
   ]
  },
  {
   "cell_type": "markdown",
   "id": "a7b67d36",
   "metadata": {},
   "source": [
    "# 5. Real-world control problems <a id='5.'></a>"
   ]
  },
  {
   "cell_type": "markdown",
   "id": "3731e57a",
   "metadata": {},
   "source": [
    "<a id='Q5'></a>\n",
    "<div class=\" alert alert-warning\">\n",
    "    <h3><b>Student Question 4.1</b> Considering an unbounded continuous action space part 1 (5 points) </h3> \n",
    "\n",
    "What could go wrong when a model with an **unbounded** continuous action space and a reward function like the one used here (+1 for survival) were to be used with a physical system?\n",
    "\n",
    "🔝\t<a href='#TOC'><b>Table of Contents</b></a>\n",
    "</div>"
   ]
  },
  {
   "cell_type": "markdown",
   "id": "d75ed5e6",
   "metadata": {},
   "source": [
    "A model with an unbounded continuous action space and a simplistic reward function such as +1 for survival in the context of a physical system can introduce significant challenges, including issues of safety, exploration, and convergence. The unbounded action space may lead to unpredictable and potentially risky actions, while the simple reward function offers limited guidance for learning optimal policies. Safety concerns become paramount, as the model may not inherently prioritize safe actions, posing risks to the physical system. Convergence during training becomes problematic, and the model's ability to generalize to diverse tasks or environments is compromised. "
   ]
  },
  {
   "cell_type": "markdown",
   "id": "fb45baf8",
   "metadata": {},
   "source": [
    "<a id='Q6'></a>\n",
    "<div class=\" alert alert-warning\">\n",
    "    <h3><b>Student Question 4.2</b> Considering an unbounded continuous action space part 2 (10 points) </h3> \n",
    "\n",
    "How could the problems appearing in Question 4.1 be mitigated without putting a hard limit on the actions? **Explain your answer.**\n",
    "\n",
    "🔝\t<a href='#TOC'><b>Table of Contents</b></a>\n",
    "</div>"
   ]
  },
  {
   "cell_type": "markdown",
   "id": "9a537818",
   "metadata": {},
   "source": [
    "To address these challenges, careful consideration of safety constraints, well-designed reward structures, and exploration strategies tailored to the specific physical system is essential to ensure both effective control and safe operation.  State constraints restrict the system from reaching unsafe states, promoting safer behavior within the limitless action space. Reward shaping provides informative feedback, encouraging the agent to pursue desired objectives without explicit limits. Additionally, exploration strategies focused on safe exploration and meta-learning techniques facilitate adaptability and reduce the risk of unsafe actions."
   ]
  },
  {
   "cell_type": "markdown",
   "id": "0eacb159",
   "metadata": {},
   "source": [
    "# 6. Discrete action spaces <a id='6.'></a>"
   ]
  },
  {
   "cell_type": "markdown",
   "id": "078ceb81",
   "metadata": {
    "tags": []
   },
   "source": [
    "<a id='Q7'></a>\n",
    "<div class=\" alert alert-warning\">\n",
    "    <h3><b>Student Question 5.</b> Considering discrete action spaces (10 points) </h3> \n",
    "\n",
    "Can policy gradient methods be used with discrete action spaces? Why/why not? Which steps of the algorithm would be problematic to perform, if any? **Explain your answer.**\n",
    "    \n",
    "🔝\t<a href='#TOC'><b>Table of Contents</b></a>\n",
    "</div>"
   ]
  },
  {
   "cell_type": "markdown",
   "id": "2979133d-a723-4ee2-984d-4a31e93a85d6",
   "metadata": {},
   "source": [
    "Policy gradient methods can indeed be used with discrete action spaces, and they are particularly well-suited for tasks involving categorical actions and decision-making. These methods work by directly estimating gradients with respect to action probabilities, simplifying the learning process. However, high variance in gradient estimates remains a challenge in discrete action spaces, potentially slowing down training. Effective exploration is also crucial, especially when dealing with many possible actions, requiring a balance between exploration and exploitation. "
   ]
  },
  {
   "cell_type": "markdown",
   "id": "4c50da4d",
   "metadata": {},
   "source": [
    "# 7. Submitting <a id='7.'></a>\n",
    "\n",
    "Ensure all tasks and questions in `ex5.ipynb` are thoroughly answered and that all the relevant plots are displayed correctly (there is no need to save the plots in the results folder). \n",
    "\n",
    "The training performance plots are as follows:\n",
    "\n",
    "- **Task 1a, REINFORCE without baseline**: Ensure the implementation is correct and the plot is similar to the expected plot shown in the task description. Refer to [Figure 1a](#figure-1a).\n",
    "  \n",
    "- **Task 1b, REINFORCE with constant baseline b = 20**: Properly implement the algorithm with a constant baseline and plot the training performance. Refer to [Figure 1b](#figure-1b).\n",
    "  \n",
    "- **Task 1c, REINFORCE with discounted rewards normalized to zero mean and unit variance**: Implement and plot the performance ensuring the rewards are normalized correctly. Refer to [Figure 1c](#figure-1c).\n",
    "  \n",
    "- **Task 2, REINFORCE with learned variance**: Ensure that the variance is being learned and adjusted during training, and plot the training performance.\n",
    "\n",
    "No model files need to be saved for this assignment.\n",
    "\n",
    "🔝 [Back to Table of Contents](#TOC)\n"
   ]
  },
  {
   "cell_type": "markdown",
   "id": "ad098b5f",
   "metadata": {},
   "source": [
    "## 7.1 Feedback <a id='7.1'></a>\n",
    "\n",
    "In order to help the staff of the course as well as the forthcoming students, it would be great if you could answer to the following questions in your submission:"
   ]
  },
  {
   "cell_type": "markdown",
   "id": "5ed5c6d1-c83a-4d62-9b4f-5ed33f0f6aea",
   "metadata": {},
   "source": [
    "1) How much time did you spend solving this exercise? (change the ```hrs``` variable below to a floating point number representing the number of hours taken e.g. 5.43)\n",
    "\n"
   ]
  },
  {
   "cell_type": "code",
   "execution_count": null,
   "id": "216bc97b-e49b-4c18-8c41-1c45711b90cd",
   "metadata": {},
   "outputs": [],
   "source": [
    "hrs = 8"
   ]
  },
  {
   "cell_type": "markdown",
   "id": "0d26d7a7-acc4-48db-84a8-e366ea68a709",
   "metadata": {},
   "source": [
    "2) Difficulty of each task/question from 1-5 (int or float)"
   ]
  },
  {
   "cell_type": "code",
   "execution_count": null,
   "id": "5eeb90fa-9f33-49c1-aca3-55f9a9a00d6a",
   "metadata": {},
   "outputs": [],
   "source": [
    "T1a = 4   # Task 1a. basic REINFORCE without baseline (15 points)\n",
    "T1b = 4   # Task 1b. REINFORCE with a constant baseline b = 20 (5 points)\n",
    "T1c = 4   # Task 1c. REINFORCE with discounted rewards normalized to zero mean and unit variance (5 points)\n",
    "Q1_1 = 4  # Question 1.1 A good baseline (15 points)\n",
    "T2 = 4    # Task 2. Making Variance a Learnable Parameter (10 points)\n",
    "Q2_1 = 4  # Question 2.1 Constant vs Learnable Variance (5 points)\n",
    "Q2_2 = 4  # Question 2.2 Learnable Variance Initial Performance (5 points)\n",
    "Q3 = 4    # Question 3. Considering a experience reply buffer (15 points)\n",
    "Q4_1 = 4  # Question 4.1 Considering an unbounded continuous action space part 1 (5 points)\n",
    "Q4_2 = 4  # Question 4.2 Considering an unbounded continuous action space part 2 (10 points)\n",
    "Q5 = 4    # Question 5. Considering discrete action spaces (10 points)"
   ]
  },
  {
   "cell_type": "markdown",
   "id": "fe9387c6-00de-4414-86eb-801485a59ec7",
   "metadata": {},
   "source": [
    "3) How well did you understand the content of the task/question from 1-5? (int or float)"
   ]
  },
  {
   "cell_type": "code",
   "execution_count": null,
   "id": "d5a53120-fcf2-4dbf-b6ad-87e5aff7dee0",
   "metadata": {},
   "outputs": [],
   "source": [
    "T1a = 5   # Task 1a. basic REINFORCE without baseline (15 points)\n",
    "T1b = 5   # Task 1b. REINFORCE with a constant baseline b = 20 (5 points)\n",
    "T1c = 5   # Task 1c. REINFORCE with discounted rewards normalized to zero mean and unit variance (5 points)\n",
    "Q1_1 = 5  # Question 1.1 A good baseline (15 points)\n",
    "T2 = 4    # Task 2. Making Variance a Learnable Parameter (10 points)\n",
    "Q2_1 = 4  # Question 2.1 Constant vs Learnable Variance (5 points)\n",
    "Q2_2 = 4  # Question 2.2 Learnable Variance Initial Performance (5 points)\n",
    "Q3 = 4    # Question 3. Considering a experience reply buffer (15 points)\n",
    "Q4_1 = 4  # Question 4.1 Considering an unbounded continuous action space part 1 (5 points)\n",
    "Q4_2 = 3  # Question 4.2 Considering an unbounded continuous action space part 2 (10 points)\n",
    "Q5 = 3    # Question 5. Considering discrete action spaces (10 points)"
   ]
  },
  {
   "cell_type": "markdown",
   "id": "7595057e-8666-486a-bd8c-788b4de828a7",
   "metadata": {},
   "source": [
    "4) General feedback. Consider questions like:\n",
    "\n",
    "    - Did the content of the lecture relate well with the assignment?\n",
    "    - To what extent did you find the material to be potentially useful for your research and studies?\n",
    "    \n",
    "And other feedback you think is worth including. Type in the box below"
   ]
  },
  {
   "cell_type": "code",
   "execution_count": null,
   "id": "6e53a93d-a13e-4ced-bf49-2c5b406b8653",
   "metadata": {},
   "outputs": [],
   "source": [
    "DOUBLE CLICK HERE TO EDIT, CLEAR THIS TEXT AND ANSWER HERE"
   ]
  },
  {
   "cell_type": "markdown",
   "id": "e3f5f8d4",
   "metadata": {
    "tags": []
   },
   "source": [
    "\n",
    "# References <a id='8.'></a>"
   ]
  }
 ],
 "metadata": {
  "kernelspec": {
   "display_name": "Python 3",
   "language": "python",
   "name": "python3"
  },
  "language_info": {
   "codemirror_mode": {
    "name": "ipython",
    "version": 3
   },
   "file_extension": ".py",
   "mimetype": "text/x-python",
   "name": "python",
   "nbconvert_exporter": "python",
   "pygments_lexer": "ipython3",
   "version": "3.10.8"
  }
 },
 "nbformat": 4,
 "nbformat_minor": 5
}
