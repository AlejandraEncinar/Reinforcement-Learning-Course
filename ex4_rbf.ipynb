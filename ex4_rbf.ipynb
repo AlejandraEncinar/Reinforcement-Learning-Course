{
 "cells": [
  {
   "cell_type": "markdown",
   "id": "53274fb5",
   "metadata": {},
   "source": [
    "\n",
    "<div class=\"alert alert-block alert-info\">\n",
    "   <h2 align=\"center\"> <center><b> Reinforcement Learning Assignment 4 - Function Approximators Part 1: Radial Basis Functions </b></center></h2>\n",
    "\n",
    "<br>\n",
    "<center><font size=\"3\">This notebook is a part of teaching material for ELEC-E8125</font></center>\n",
    "<center><font size=\"3\">Sep 4, 2023 - Nov 30, 2023</font></center>\n",
    "<center><font size=\"3\">Aalto University</font></center>\n",
    "</div>\n",
    "\n",
    "\n",
    "<a id='TOC'></a>\n",
    "\n",
    "<div class=\"alert alert-block alert-success\">\n",
    "    \n",
    "# Table of contents\n",
    "* <a href='#1.'> 1. Introduction </a>\n",
    "* <a href='#1.1'> 1.1 Task environments </a>\n",
    "* <a href='#1.2'> 1.2 Learning Objectives </a>\n",
    "* <a href='#1.3'> 1.3 Code Structure & Files </a>\n",
    "* <a href='#2.'> 2. Approximate with non-linear features</a>\n",
    "* <a href='#2.1'> 2.1 Radial Basis Functions</a>\n",
    "* <a href='#2.2'> 2.2 Sklearn RBF function</a>\n",
    "* <a href='#3.'> 3. Submitting </a>\n",
    "* <a href='#3.1'> 3.1 Feedback </a>\n",
    "\n",
    "<a href='#T1'><b>Student Task 1.</b> Implementing Q-learning using Function Approximation (20 points) </a>\\\n",
    "<a href='#Q1'><b>Student Question 1.1</b> Considering Linear Features (10 points) </a>\\\n",
    "<a href='#Q2'><b>Student Question 1.2</b> Experience Replay Buffer (10 points) </a>\\\n",
    "<a href='#Q3'><b>Student Question 1.3</b> Grid-based vs Function Approximators (10 points) </a>\\\n",
    "<a href='#T2'><b>Student Task 2.</b> Visualizing the Policy (10 points)</a>\n",
    "    \n",
    "**Total Points:** 60"
   ]
  },
  {
   "cell_type": "markdown",
   "id": "c30395ea",
   "metadata": {},
   "source": [
    "# 1. Introduction <a id='1.'></a>\n",
    "\n",
    "In many real world scenarios, the dimensionality of the state space may be too high to compute and store the Q-values for each possible state and action in a Q-table. Instead, the state value and action value functions can be learned by using a function approximator, such as a radial basis functions (RBFs). In this exercise, you will start with handcrafted features and then move to radial basis functions in the **Cartpole** environment.\n",
    "\n",
    "\n",
    "<figure style=\"text-align: center\">\n",
    "<img src=\"imgs/cartpole.png\" width=\"300px\">\n",
    "<figcaption style=\"text-align: center\"> Figure 1: The Cartpole environment. </figcaption>\n",
    "</figure>\n",
    "\n",
    "Useful Sources:\n",
    "\n",
    "- Sutton, Richard S., and Andrew G. Barto. \"Reinforcement Learning: An Introduction (in progress).\" London, England (2017). http://incompleteideas.net/book/RLbook2018.pdf\n",
    "\n",
    "## 1.1 Task environments <a id='1.1'></a>\n",
    "\n",
    "In this part, we will specifically use RBF-based Q-learning to solve cartpole task. In this environment, a pole is attached by an un-actuated joint to a cart, which moves along a frictionless track. The pendulum is placed upright on the cart and the goal is to balance the pole by applying forces in the left and right direction on the cart. \n",
    "\n",
    "You can find the detailed description of the task through this link: https://gymnasium.farama.org/environments/classic_control/cart_pole/\n",
    "\n",
    "\n",
    "## 1.2 Learning Objectives: <a id='1.2'></a>\n",
    "- Understand why and how function approximators can be used for Q-learning\n",
    "- Develop intuition behind function approximators: radial basis functions\n",
    "\n",
    "## 1.3 Code Structure & Files <a id='1.3'></a>\n",
    "\n",
    "```ex4_rbf.ipynb``` is the file needed to be modified for this part of the assignment. \n",
    "\n",
    "<span style=\"color:red\"> **# IMPORTANT: DO NOT FORGET ANOTHER TASK IN ```ex4_dqn.ipynb```** </span>\n",
    "\n",
    "```\n",
    "├───cfg                            # Config files for environments\n",
    "├───imgs                           # Images used in notebook\n",
    "├───results\n",
    "│   └───CartPole-v1\n",
    "│   │   ├───logging                \n",
    "│   │   │    └───logging.pkl        # Contains logged data\n",
    "│   │   ├───model              \n",
    "│   │   │    └───*dqn.pt            # Contains trained model for dqn task\n",
    "│   │   │    └───*rbf.pkl           # Contains trained model for rbf task\n",
    "│   │   └───video                   # Videos saved\n",
    "│   │   └───*cartpole_rbf.png       # Contains training performance plot for rbd\n",
    "│   │   └───*cartpole_hd.png        # Contains training performance plot for handcrafted feature\n",
    "│   └───LunarLander-v2\n",
    "│   ex4_dqn.ipynb                   # 2nd assignment file containing tasks <---------\n",
    "│   ex4_rbf.ipynb                   # 1st assignment file containing tasks <---------This task\n",
    "│   train.py                        # Contains train and test functions \n",
    "│   utils.py                        # Contains useful functions \n",
    "└───buffer.py                       # Contains buffer functions\n",
    "```\n",
    "\n"
   ]
  },
  {
   "cell_type": "markdown",
   "id": "5b3c5f5c",
   "metadata": {
    "tags": []
   },
   "source": [
    "# 2. Approximate with non-linear features <a id='2.'></a>\n",
    "## 2.1 Radial Basis Functions <a id='2.1'></a>\n",
    "A radial basis function (RBF) is a real-valued function $\\phi$ that maps a vector $\\boldsymbol{x} \\in \\mathbb{R}^d$ into a real-value $\\phi : \\mathbb{R}^d \\mapsto \\mathbb{R}$. The RBF $\\phi(\\boldsymbol{x} )$ = $\\phi(||\\boldsymbol{x} ||)$ acts on a distance (radial) and a basis function $\\phi$ (e.g. Gaussian function). The RBFs are commonly used as kernels in machine learning. The RBF kernel is defined as a $K(\\boldsymbol{x} , \\boldsymbol{x} ′) = 〈\\phi(\\boldsymbol{x}),\\phi(\\boldsymbol{x}′)〉$, where $\\phi$ is the Gaussian function. Therefore, the RBF kernel is defined as\n",
    "\n",
    "$$\n",
    "K\\left(\\boldsymbol{x}, \\boldsymbol{x}^{\\prime}\\right)=\\exp \\left(-\\frac{-\\left\\|\\boldsymbol{x}-\\boldsymbol{x}^{\\prime}\\right\\|^2}{2 \\sigma^2}\\right)\n",
    "$$\n",
    "\n",
    "where the parameter $\\phi^2$ is the variance and gives shape to the Gaussian function. \n",
    "\n",
    "On the exercise you are given a ```featurizer``` which uses an ```RBFSampler```. The ```RBFSampler``` uses a Monte Carlo approximation of the RBF kernel and generates samples with the specified variance. The ```RBFSampler``` has been trained on a predefined dataset. Thus, the RBF kernel will map the state $x \\in \\mathbb{R}$ d to the distance to the trained dataset. Therefore, an input state will be transformed to as many features as samples $N$ are specified in the ```RBFSampler``` $\\phi : \\mathbb{R}^d \\mapsto \\mathbb{R}^N $. \n",
    "\n",
    "In a nutshell, the ```featurizer``` function maps low-dimensional states to a high-dimensional representation, which reveals properties that haven’t been shown in the original low-dimensional space, e.g., for the Cartpole environment, it maps the original four-dimensional states to a 230-dimensional vector.\n",
    "\n",
    "## 2.2 Sklearn RBF function<a id='2.2'></a>\n",
    "In this excercise, we use scikit-learn library to implement the RBF approximation by doing following steps:\n",
    "\n",
    "- RBFSampler: A RBF kernel will map feature into higher dimensions using random Fourier features.\n",
    "- FeatureUnion: Concatenates results of multiple transformer objects.\n",
    "- SGDRegressor: Linear model fitted by minimizing a regularized empirical loss with SGD.\n",
    "\n",
    "\n"
   ]
  },
  {
   "cell_type": "markdown",
   "id": "5511d36c",
   "metadata": {},
   "source": [
    "<a id='T1'></a>\n",
    "<div class=\" alert alert-warning\">\n",
    "    <h3><b>Student Task 1.</b> Implementing Q-learning using Function Approximation (20 points) </h3> \n",
    "\n",
    "Implement Q-learning using function approximation. Also implement $\\epsilon$-greedy action selection. Test two different features for state representations:\n",
    "\n",
    "&nbsp;&nbsp;&nbsp;&nbsp;&nbsp;(a) handcrafted feature vector $\\phi(s) = [s, |s|]^T$,(use the ```featurizer``` inside the ```RBFAgent``` class).\n",
    "\n",
    "&nbsp;&nbsp;&nbsp;&nbsp;&nbsp;(b) radial basis function representations (use the ```featurizer``` inside the ```RBFAgent``` class).\n",
    "\n",
    "For this task you need to modify functions ```featurize```, ```get_action```, and ```update``` inside the ```RBFAgent``` class. Test the implementation on the Cartpole environment by running the ```train(agent)``` script with default configs. You can test the trained model with the ```test(agent, cfg_args=dict(save_video=true))``` script. \n",
    "    \n",
    "**See Figure 2 for an example training performance plot for Task1(b). Save the training performance plots for both (a) and (b), and check if they are in the right place (the paths please refer to <a href='#3.'>Submitting<a>).**\n",
    "\n",
    "<figure style=\"text-align: center\">\n",
    "<img src=\"imgs/rbf.png\" width=\"300px\">\n",
    "<figcaption style=\"text-align: center\">Figure 2: The training performance plot for Task 1 (b) might look something like this.</figcaption>\n",
    "</figure>\n",
    "    \n",
    "🔝\t<a href='#TOC'><b>Table of Contents</b></a>\n",
    "</div>\n"
   ]
  },
  {
   "cell_type": "code",
   "execution_count": 1,
   "id": "62817342",
   "metadata": {
    "tags": []
   },
   "outputs": [],
   "source": [
    "import sys, os\n",
    "sys.path.insert(0, os.path.abspath(\"..\"))\n",
    "\n",
    "import yaml\n",
    "import numpy as np\n",
    "from pathlib import Path\n",
    "\n",
    "from sklearn.linear_model import SGDRegressor\n",
    "from sklearn.kernel_approximation import RBFSampler\n",
    "from sklearn.preprocessing import StandardScaler\n",
    "from sklearn.pipeline import FeatureUnion\n",
    "\n",
    "from buffer import Batch\n",
    "import utils as u\n",
    "import train as t\n",
    "\n",
    "from IPython.display import Video # to display videos"
   ]
  },
  {
   "cell_type": "code",
   "execution_count": 31,
   "id": "9ee3fb4e",
   "metadata": {
    "tags": []
   },
   "outputs": [],
   "source": [
    "class RBFAgent(object):\n",
    "    def __init__(self, n_actions, gamma=0.98, batch_size=32):\n",
    "        self.scaler = None\n",
    "        self.featurizer = None\n",
    "        self.q_functions = None\n",
    "        self.gamma = gamma\n",
    "        self.batch_size = batch_size\n",
    "        self.n_actions = n_actions\n",
    "        self._initialize_model()\n",
    "\n",
    "    def _initialize_model(self):\n",
    "        # Draw some samples from the observation range and initialize the scaler (used to normalize data)\n",
    "        obs_limit = np.array([4.8, 5, 0.5, 5])\n",
    "        samples = np.random.uniform(-obs_limit, obs_limit, (1000, obs_limit.shape[0]))\n",
    "        \n",
    "        # calculate the mean and var of samples, used later to normalize training data\n",
    "        self.scaler = StandardScaler().fit(samples) \n",
    "\n",
    "        # Initialize the RBF featurizer\n",
    "        self.featurizer = FeatureUnion([\n",
    "            (\"rbf1\", RBFSampler(gamma=5.0, n_components=100)),\n",
    "            (\"rbf2\", RBFSampler(gamma=2.0, n_components=80)),\n",
    "            (\"rbf3\", RBFSampler(gamma=1.0, n_components=50)),\n",
    "        ])\n",
    "        self.featurizer.fit(self.scaler.transform(samples))\n",
    "\n",
    "        # Create a value approximator for each action dimension\n",
    "        self.q_functions = [SGDRegressor(learning_rate=\"constant\", max_iter=500, tol=1e-3)\n",
    "                       for _ in range(self.n_actions)]\n",
    "\n",
    "        # Initialize it to whatever values; implementation detail\n",
    "        for q_a in self.q_functions:\n",
    "            q_a.partial_fit(self.featurize(samples), np.zeros((samples.shape[0],)))\n",
    "\n",
    "    def featurize(self, state):\n",
    "        \"\"\" Map state to a higher dimension for better representation.\"\"\"\n",
    "        if len(state.shape) == 1:\n",
    "            state = state.reshape(1, -1)\n",
    "        \n",
    "        # TODO: Task 1, choose which feature to use. \n",
    "        # Task 1a: implement the manual features here \n",
    "        ########## You code starts here #########\n",
    "        \n",
    "        manual_feature = np.concatenate([state, np.abs(state)],  axis=1)\n",
    "        \n",
    "        ########## You code ends here #########\n",
    "\n",
    "        \n",
    "        # Task 1b: implement the RBF features transformation here \n",
    "        # it will map a state to a higher dimension (100+80+50)\n",
    "        ########## You code starts here #########\n",
    "       \n",
    "        rbf_feature = self.featurizer.transform(self.scaler.transform(state))  \n",
    "        \n",
    "        ########## You code ends here #########\n",
    "\n",
    "        #Task 1:return manual_feature or return rbf_feature\n",
    "        ########## You code starts here #########\n",
    "        \n",
    "        #feature = manual_feature #(task 1 a)\n",
    "        feature = rbf_feature #(task 1 b)\n",
    "        \n",
    "        ########## You code ends here #########\n",
    "        \n",
    "        return feature\n",
    "    \n",
    "    def get_action(self, state, epsilon=0.0):\n",
    "        # TODO: Task 1: Implement epsilon-greedy policy\n",
    "        # Hints:\n",
    "        # 1. self.q_functions is a list which defines a q function for each action dimension\n",
    "        # 2. for each q function, use predict(feature) to obtain the q value\n",
    "        ########## Your code starts here ##########\n",
    "        \n",
    "        if np.random.rand() < epsilon:\n",
    "            # Explore: Choose a random action\n",
    "            action = np.random.randint(self.n_actions)\n",
    "        else:\n",
    "            # Exploit: Choose the action with the highest Q-value\n",
    "            q_values = [q.predict(self.featurize(state)) for q in self.q_functions]\n",
    "            action = np.argmax(q_values)\n",
    "            \n",
    "        ########## Your code ends here #########\n",
    "        return action\n",
    "\n",
    "\n",
    "    def _to_squeezed_np(self, batch:Batch) -> Batch:\n",
    "        \"\"\" A simple helper function squeeze data dimension and cover data format from tensor to np.ndarray.\"\"\"\n",
    "        _ret = {}\n",
    "        for name, value in batch._asdict().items():\n",
    "            if isinstance(value, dict): # this is for extra, which is a dict\n",
    "                for k, v in value.items():\n",
    "                    value[k] = v.squeeze().numpy()\n",
    "                _ret[name] = value\n",
    "            else:\n",
    "                _ret[name] = value.squeeze().numpy()\n",
    "        return Batch(**_ret)\n",
    "        \n",
    "    def update(self, buffer):\n",
    "        # batch is a namedtuple, which has state, action, next_state, not_done, reward\n",
    "        # you can access the value be batch.<name>, e.g, batch.state\n",
    "        batch = buffer.sample(self.batch_size) \n",
    "        # Hint:\n",
    "        #    state = batch.state\n",
    "        #    action = batch.action \n",
    "        #    next_state = batch.next_state\n",
    "        #    reward = batch.reward \n",
    "        #    not_done = batch.not_done \n",
    "        \n",
    "        # the returned batch is a namedtuple, where the data is torch.Tensor\n",
    "        # we first squeeze dim and then covert it to Numpy array.\n",
    "        batch = self._to_squeezed_np(batch)\n",
    "\n",
    "        # TODO: Task 1, update q_functions\n",
    "        # Hints: \n",
    "        # 1. featurize the state and next_state\n",
    "        # 2. calculate q_target (check q-learning)\n",
    "        # 3. self.q_functions is a list which defines a q function for each action dimension\n",
    "        #    for each q function, use q.predict(featurized_state) to obtain the q value \n",
    "        # 4. remember to use not_done to mask out the q values at terminal states (treat them as 0)\n",
    "        ########## You code starts here #########\n",
    "         \"\"\"\n",
    "        f_state = self.featurize(batch.state)\n",
    "        featurized_next_state = self.featurize(batch.next_state)\n",
    "        q_tar = batch.reward + self.gamma * np.max([q_a.predict(featurized_next_state) for q_a in self.q_functions], axis=0) * batch.not_done\n",
    "        \"\"\"\n",
    "        \n",
    "        f_state = self.featurize(batch.state)\n",
    "        f_next_state = self.featurize(batch.next_state)\n",
    "        \n",
    "         # Initialize an array to store the Q-target values\n",
    "        q_tar = np.zeros_like(batch.reward)\n",
    "\n",
    "        for i in range(self.batch_size):\n",
    "            # Calculate Q-target for each sample in the batch using the Q-learning update rule\n",
    "            q_tar[i] = batch.reward[i] + self.gamma * np.max([q.predict(f_next_state[i:i+1])[0] for q in self.q_functions]) * batch.not_done[i]\n",
    "\n",
    "       \n",
    "        ########## You code ends here #########\n",
    "        \n",
    "        # Get new weights for each action separately\n",
    "        for a in range(self.n_actions):\n",
    "            # Find states where `a` was taken\n",
    "            idx = batch.action == a\n",
    "\n",
    "            # If a not present in the batch, skip and move to the next action\n",
    "            if np.any(idx):\n",
    "                act_states = f_state[idx]\n",
    "                act_targets = q_tar[idx]\n",
    "\n",
    "                # Perform a single SGD step on the Q-function params to update the q_function corresponding to action a\n",
    "                self.q_functions[a].partial_fit(act_states, act_targets)\n",
    "\n",
    "        return {}\n",
    "\n",
    "    def save(self, fp):\n",
    "        path = fp/'rbf.pkl'\n",
    "        u.save_object(\n",
    "            {'q': self.q_functions, 'featurizer': self.featurizer},\n",
    "            path\n",
    "        )\n",
    "\n",
    "    def load(self, fp):\n",
    "        path = fp/'rbf.pkl'\n",
    "        d = u.load_object(path)\n",
    "\n",
    "        self.q_functions = d['q']\n",
    "        self.featurizer = d['featurizer']"
   ]
  },
  {
   "cell_type": "markdown",
   "id": "bb219433-160a-4c5b-b1bf-6c654a57e703",
   "metadata": {
    "tags": []
   },
   "source": [
    "<a id='T1'></a>\n",
    "<div class=\" alert alert-warning\">\n",
    "    <h4><b>Student Task 1.(a)</b> Linear model with handcraft feature </h4> \n",
    "\n",
    "First, let's test Q-learning with handcrafted features. We define the feature as :\n",
    "    \n",
    "&nbsp;&nbsp;&nbsp;&nbsp;&nbsp;&nbsp;&nbsp;&nbsp;&nbsp;&nbsp;&nbsp;&nbsp;&nbsp;&nbsp;&nbsp;&nbsp;&nbsp;&nbsp;&nbsp;&nbsp;&nbsp;&nbsp;&nbsp;&nbsp;&nbsp;&nbsp;&nbsp;&nbsp;&nbsp;&nbsp;$\\phi(s) = [s, |s|]^T$\n",
    "\n",
    "Then we will feed this feature into a linear model to predict corresponding Q-values.\n",
    "\n",
    "For this Task, implement the code in ```class RBFAgent```:\n",
    "    \n",
    "1. First, you need to modify functions ```featurize```, to convert the state $s$ from encironment to $[s, |s|]^T$.\n",
    "2. Modify the function ```get_action```, use ```self.q_functions``` to select the action has the highest return.\n",
    "3. Modify the function ```update```, based on the Q-learning objective to update the Q-function (linear models).\n",
    "\n",
    "After the modifying, test the implementation on the Cartpole environment by running the ```train(agent)``` script with default configs. You can test the trained model with the ```test(agent, cfg_args=dict(save_video=true))``` script. \n",
    "</div>"
   ]
  },
  {
   "cell_type": "code",
   "execution_count": 24,
   "id": "d9dd6467",
   "metadata": {
    "tags": []
   },
   "outputs": [],
   "source": [
    "# After the modifying, run\n",
    "# init agent\n",
    "with open(Path().cwd()/'cfg'/'cartpole_rbf.yaml', 'r') as f:\n",
    "    cfg = t.Struct(**yaml.safe_load(f))\n",
    "        \n",
    "agent = RBFAgent(n_actions=cfg.n_actions, gamma=cfg.gamma, batch_size=cfg.batch_size)"
   ]
  },
  {
   "cell_type": "code",
   "execution_count": 25,
   "id": "d78c6566",
   "metadata": {
    "tags": []
   },
   "outputs": [
    {
     "name": "stdout",
     "output_type": "stream",
     "text": [
      "Numpy/Torch/Random Seed:  436\n",
      "{'ep_reward': 13.0, 'episode': 0, 'epsilon': 1.0, 'ep_avr': 0.001864168792963028, 'ts_avr': 0.00011762231588363647}\n",
      "{'ep_reward': 32.0, 'episode': 100, 'epsilon': 0.3333333333333333, 'ep_avr': 0.1675818634778261, 'ts_avr': 0.0034077206809919377}\n",
      "{'ep_reward': 50.0, 'episode': 200, 'epsilon': 0.2, 'ep_avr': 0.2621600884944201, 'ts_avr': 0.003694617454396324}\n",
      "{'ep_reward': 55.0, 'episode': 300, 'epsilon': 0.14285714285714285, 'ep_avr': 0.2237125253677368, 'ts_avr': 0.0038205457174832966}\n",
      "{'ep_reward': 66.0, 'episode': 400, 'epsilon': 0.1111111111111111, 'ep_avr': 0.2583275443688035, 'ts_avr': 0.003767044756718006}\n",
      "{'ep_reward': 40.0, 'episode': 500, 'epsilon': 0.09090909090909091, 'ep_avr': 0.24764134019613265, 'ts_avr': 0.0038030265691688715}\n",
      "{'ep_reward': 66.0, 'episode': 600, 'epsilon': 0.07692307692307693, 'ep_avr': 0.24166855987161398, 'ts_avr': 0.003835087064357977}\n",
      "{'ep_reward': 17.0, 'episode': 700, 'epsilon': 0.06666666666666667, 'ep_avr': 0.21904725920408963, 'ts_avr': 0.0038460096685215177}\n",
      "{'ep_reward': 94.0, 'episode': 800, 'epsilon': 0.058823529411764705, 'ep_avr': 0.31264034859836104, 'ts_avr': 0.003832393609966613}\n",
      "{'ep_reward': 58.0, 'episode': 900, 'epsilon': 0.05263157894736842, 'ep_avr': 0.2627315859124064, 'ts_avr': 0.0038537263718298135}\n",
      "{'ep_reward': 82.0, 'episode': 1000, 'epsilon': 0.05, 'ep_avr': 0.27941117972135543, 'ts_avr': 0.0038578791628471974}\n",
      "{'ep_reward': 47.0, 'episode': 1100, 'epsilon': 0.05, 'ep_avr': 0.255336209833622, 'ts_avr': 0.003860261286758861}\n",
      "{'ep_reward': 23.0, 'episode': 1200, 'epsilon': 0.05, 'ep_avr': 0.2856153179705143, 'ts_avr': 0.0038536186255866537}\n",
      "{'ep_reward': 68.0, 'episode': 1300, 'epsilon': 0.05, 'ep_avr': 0.3832879874110222, 'ts_avr': 0.003866911779498958}\n",
      "{'ep_reward': 39.0, 'episode': 1400, 'epsilon': 0.05, 'ep_avr': 0.30682280637323855, 'ts_avr': 0.0038542631282917532}\n",
      "{'ep_reward': 100.0, 'episode': 1500, 'epsilon': 0.05, 'ep_avr': 0.3076555381342769, 'ts_avr': 0.0038603760384352333}\n",
      "{'ep_reward': 39.0, 'episode': 1600, 'epsilon': 0.05, 'ep_avr': 0.33168378584086894, 'ts_avr': 0.0038627325386312306}\n",
      "{'ep_reward': 70.0, 'episode': 1700, 'epsilon': 0.05, 'ep_avr': 0.3410351390764117, 'ts_avr': 0.0038745688130571083}\n",
      "{'ep_reward': 50.0, 'episode': 1800, 'epsilon': 0.05, 'ep_avr': 0.26926785953342913, 'ts_avr': 0.003874606714531925}\n",
      "{'ep_reward': 63.0, 'episode': 1900, 'epsilon': 0.05, 'ep_avr': 0.3272869458794594, 'ts_avr': 0.0038514833857012445}\n",
      "------ Training Finished ------\n"
     ]
    }
   ],
   "source": [
    "t.train(agent, cfg_path=Path().cwd()/'cfg'/'cartpole_rbf.yaml', cfg_args={}) # < 10 mins"
   ]
  },
  {
   "cell_type": "code",
   "execution_count": 26,
   "id": "4d57a812",
   "metadata": {
    "tags": []
   },
   "outputs": [
    {
     "name": "stdout",
     "output_type": "stream",
     "text": [
      "Numpy/Torch/Random Seed:  436\n",
      "{'episode': 0, 'ep_reward': 69.0}\n",
      "{'episode': 1, 'ep_reward': 39.0}\n",
      "{'episode': 2, 'ep_reward': 65.0}\n",
      "{'episode': 3, 'ep_reward': 51.0}\n",
      "{'episode': 4, 'ep_reward': 62.0}\n",
      "{'episode': 5, 'ep_reward': 57.0}\n",
      "{'episode': 6, 'ep_reward': 70.0}\n",
      "{'episode': 7, 'ep_reward': 83.0}\n",
      "{'episode': 8, 'ep_reward': 67.0}\n",
      "{'episode': 9, 'ep_reward': 57.0}\n"
     ]
    }
   ],
   "source": [
    "t.test(agent, cfg_path=Path().cwd()/'cfg'/'cartpole_rbf.yaml', cfg_args=dict(save_video=True)) "
   ]
  },
  {
   "cell_type": "code",
   "execution_count": 27,
   "id": "4e9ba558-6057-4142-804b-d6bc43d0d709",
   "metadata": {
    "tags": []
   },
   "outputs": [
    {
     "name": "stdout",
     "output_type": "stream",
     "text": [
      "Numpy/Torch/Random Seed:  436\n"
     ]
    },
    {
     "data": {
      "image/png": "[encoded data removed]",
      "text/plain": [
       "<Figure size 640x480 with 1 Axes>"
      ]
     },
     "metadata": {},
     "output_type": "display_data"
    }
   ],
   "source": [
    "t.plot(save_name='cartpole_hd.png', cfg_path=Path().cwd()/'cfg'/'cartpole_rbf.yaml', cfg_args={}) # < 15 mins"
   ]
  },
  {
   "cell_type": "markdown",
   "id": "05fb6b18",
   "metadata": {},
   "source": [
    "The agent acting in the environment can be seen using the following command. Change the path to pick the episode you want to visualize. Bear in mind by default video saving for training is taken every 500 episodes"
   ]
  },
  {
   "cell_type": "code",
   "execution_count": 28,
   "id": "69b48c8a",
   "metadata": {
    "tags": []
   },
   "outputs": [
    {
     "data": {
      "text/html": [
       "<video loop autoplay  >\n",
       " <source src=\"data:video/mp4;base64,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\" type=\"video/mp4\">\n",
       " Your browser does not support the video tag.\n",
       " </video>"
      ],
      "text/plain": [
       "<IPython.core.display.Video object>"
      ]
     },
     "execution_count": 28,
     "metadata": {},
     "output_type": "execute_result"
    }
   ],
   "source": [
    "Video(Path().cwd()/'results'/'CartPole-v1'/'video'/'test'/'ex4_rbf-episode-0.mp4',\n",
    "      embed=True, html_attributes=\"loop autoplay\") # Set html_attributes=\"controls\" for video control"
   ]
  },
  {
   "cell_type": "markdown",
   "id": "571f48c8-9ab6-43fb-bce0-19719ce2c9e2",
   "metadata": {
    "tags": []
   },
   "source": [
    "<a id='T1'></a>\n",
    "<div class=\" alert alert-warning\">\n",
    "    <h4><b>Student Task 1.(b)</b> RBF approximation </h4> \n",
    "\n",
    "Now, let's test Q-learning with RBF approximation. In this task, we will do a feature transform using the Radial Basis Function. An input state will be transformed to as many features as samples $N$ are specified in the ```RBFSampler``` $\\phi : \\mathbb{R}^d \\mapsto \\mathbb{R}^N $. Then we will feed this $\\mathbb{R}^N $ feature into a linear model to predict corresponding Q-values.\n",
    "\n",
    "For this Task:\n",
    "    \n",
    "1. You need to modify functions ```featurize```, to **convert the state $s$ to a higher dimensional feature using** ```RBFSampler```.\n",
    "\n",
    "2. Run the cell of ```class RBFAgent``` to update the class function\n",
    "\n",
    "3. <span style=\"color:red\"> **IMPORTANT: Directly come to this cell after the modifications, DO NOT RUN the handcraft feature cells again!!!** </span>\n",
    "\n",
    "4. Run the cells below to check the performances of Q-learning with RBF approximation.\n",
    "    \n",
    "After the modifying, test the implementation on the Cartpole environment by running the ```train(agent)``` script with default configs. You can test the trained model with the ```test(agent, cfg_args=dict(save_video=true))``` script. \n",
    "</div>"
   ]
  },
  {
   "cell_type": "code",
   "execution_count": 32,
   "id": "ab43c155-a9a9-4d7c-8829-0b472d25314e",
   "metadata": {
    "tags": []
   },
   "outputs": [],
   "source": [
    "# After modifying the function 'featurize', \n",
    "# 1. run the cell of class RBFAgent(object) to update the class\n",
    "# 2. After update the class, directly run this cell (Skip the cells above of training hadncraft feature) \n",
    "# 2. now let's rerun the agent\n",
    "\n",
    "with open(Path().cwd()/'cfg'/'cartpole_rbf.yaml', 'r') as f:\n",
    "    cfg = t.Struct(**yaml.safe_load(f))        \n",
    "agent = RBFAgent(n_actions=cfg.n_actions, gamma=cfg.gamma, batch_size=cfg.batch_size)"
   ]
  },
  {
   "cell_type": "code",
   "execution_count": 33,
   "id": "793f3d51-0bc1-469e-a889-86f217668c02",
   "metadata": {
    "tags": []
   },
   "outputs": [
    {
     "name": "stdout",
     "output_type": "stream",
     "text": [
      "Numpy/Torch/Random Seed:  436\n",
      "{'ep_reward': 32.0, 'episode': 0, 'epsilon': 1.0, 'ep_avr': 0.002122849225997925, 'ts_avr': 6.0449703596532345e-05}\n",
      "{'ep_reward': 78.0, 'episode': 100, 'epsilon': 0.3333333333333333, 'ep_avr': 0.19842191006988286, 'ts_avr': 0.0019551491758663586}\n",
      "{'ep_reward': 200.0, 'episode': 200, 'epsilon': 0.2, 'ep_avr': 0.37905180659145116, 'ts_avr': 0.0021636301065173285}\n",
      "{'ep_reward': 200.0, 'episode': 300, 'epsilon': 0.14285714285714285, 'ep_avr': 0.4193366787955165, 'ts_avr': 0.002234829126793968}\n",
      "{'ep_reward': 200.0, 'episode': 400, 'epsilon': 0.1111111111111111, 'ep_avr': 0.434047470241785, 'ts_avr': 0.0022602818016801505}\n",
      "{'ep_reward': 200.0, 'episode': 500, 'epsilon': 0.09090909090909091, 'ep_avr': 0.4471681871265173, 'ts_avr': 0.002290889713178224}\n",
      "{'ep_reward': 200.0, 'episode': 600, 'epsilon': 0.07692307692307693, 'ep_avr': 0.44957685835659505, 'ts_avr': 0.002286125149005609}\n",
      "{'ep_reward': 200.0, 'episode': 700, 'epsilon': 0.06666666666666667, 'ep_avr': 0.46093742817640304, 'ts_avr': 0.002315289159122199}\n",
      "{'ep_reward': 200.0, 'episode': 800, 'epsilon': 0.058823529411764705, 'ep_avr': 0.46510644562542436, 'ts_avr': 0.0023249053159728646}\n",
      "{'ep_reward': 200.0, 'episode': 900, 'epsilon': 0.05263157894736842, 'ep_avr': 0.46426867820322515, 'ts_avr': 0.0023207279616966844}\n",
      "{'ep_reward': 200.0, 'episode': 1000, 'epsilon': 0.05, 'ep_avr': 0.4637237414345145, 'ts_avr': 0.0023179491896182297}\n",
      "{'ep_reward': 200.0, 'episode': 1100, 'epsilon': 0.05, 'ep_avr': 0.4596609452739358, 'ts_avr': 0.002314191067334946}\n",
      "{'ep_reward': 200.0, 'episode': 1200, 'epsilon': 0.05, 'ep_avr': 0.4641784498468041, 'ts_avr': 0.002321774581641178}\n",
      "{'ep_reward': 200.0, 'episode': 1300, 'epsilon': 0.05, 'ep_avr': 0.46431531801819803, 'ts_avr': 0.002320931579731405}\n",
      "{'ep_reward': 200.0, 'episode': 1400, 'epsilon': 0.05, 'ep_avr': 0.46095361646264793, 'ts_avr': 0.0023041160697117448}\n",
      "{'ep_reward': 200.0, 'episode': 1500, 'epsilon': 0.05, 'ep_avr': 0.4616060050576925, 'ts_avr': 0.0023074293076992035}\n",
      "{'ep_reward': 200.0, 'episode': 1600, 'epsilon': 0.05, 'ep_avr': 0.46136458199471236, 'ts_avr': 0.002306210519000888}\n",
      "{'ep_reward': 200.0, 'episode': 1700, 'epsilon': 0.05, 'ep_avr': 0.46367433298379185, 'ts_avr': 0.0023177645614370704}\n",
      "{'ep_reward': 200.0, 'episode': 1800, 'epsilon': 0.05, 'ep_avr': 0.4602200860530138, 'ts_avr': 0.002300493081472814}\n",
      "{'ep_reward': 200.0, 'episode': 1900, 'epsilon': 0.05, 'ep_avr': 0.46128415714949367, 'ts_avr': 0.0023058020502328873}\n",
      "------ Training Finished ------\n"
     ]
    }
   ],
   "source": [
    "t.train(agent, cfg_path=Path().cwd()/'cfg'/'cartpole_rbf.yaml', cfg_args={}) # < 5 mins"
   ]
  },
  {
   "cell_type": "code",
   "execution_count": 34,
   "id": "88396eef-a80e-41dd-bdc7-c5cb67a2e75f",
   "metadata": {
    "tags": []
   },
   "outputs": [
    {
     "name": "stdout",
     "output_type": "stream",
     "text": [
      "Numpy/Torch/Random Seed:  436\n",
      "{'episode': 0, 'ep_reward': 200.0}\n",
      "{'episode': 1, 'ep_reward': 200.0}\n",
      "{'episode': 2, 'ep_reward': 200.0}\n",
      "{'episode': 3, 'ep_reward': 200.0}\n",
      "{'episode': 4, 'ep_reward': 200.0}\n",
      "{'episode': 5, 'ep_reward': 200.0}\n",
      "{'episode': 6, 'ep_reward': 200.0}\n",
      "{'episode': 7, 'ep_reward': 200.0}\n",
      "{'episode': 8, 'ep_reward': 200.0}\n",
      "{'episode': 9, 'ep_reward': 200.0}\n"
     ]
    }
   ],
   "source": [
    "t.test(agent, cfg_path=Path().cwd()/'cfg'/'cartpole_rbf.yaml', cfg_args=dict(save_video=True)) "
   ]
  },
  {
   "cell_type": "code",
   "execution_count": 35,
   "id": "4b5fd3b7-ee1d-46c7-830f-54b295ececa3",
   "metadata": {
    "tags": []
   },
   "outputs": [
    {
     "name": "stdout",
     "output_type": "stream",
     "text": [
      "Numpy/Torch/Random Seed:  436\n"
     ]
    },
    {
     "data": {
      "image/png": "[encoded data removed]",
      "text/plain": [
       "<Figure size 640x480 with 1 Axes>"
      ]
     },
     "metadata": {},
     "output_type": "display_data"
    }
   ],
   "source": [
    "t.plot(save_name='cartpole_rbf.png', cfg_path=Path().cwd()/'cfg'/'cartpole_rbf.yaml', cfg_args={}) # < 5 mins"
   ]
  },
  {
   "cell_type": "markdown",
   "id": "445eb823-f602-442f-b4b3-ed6806c18ffe",
   "metadata": {
    "tags": []
   },
   "source": [
    "The agent acting in the environment can be seen using the following command. Change the path to pick the episode you want to visualize. Bear in mind by default video saving for training is taken every 500 episodes"
   ]
  },
  {
   "cell_type": "code",
   "execution_count": 64,
   "id": "cd524780-6930-4de3-ae4b-9157e89760d7",
   "metadata": {
    "tags": []
   },
   "outputs": [
    {
     "data": {
      "text/html": [
       "<video loop autoplay  >\n",
       " <source src=\"data:video/mp4;base64,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\" type=\"video/mp4\">\n",
       " Your browser does not support the video tag.\n",
       " </video>"
      ],
      "text/plain": [
       "<IPython.core.display.Video object>"
      ]
     },
     "execution_count": 64,
     "metadata": {},
     "output_type": "execute_result"
    }
   ],
   "source": [
    "Video(Path().cwd()/'results'/'CartPole-v1'/'video'/'test'/'ex4_rbf-episode-0.mp4',\n",
    "      embed=True, html_attributes=\"loop autoplay\") # Set html_attributes=\"controls\" for video control"
   ]
  },
  {
   "cell_type": "markdown",
   "id": "8f725b2e",
   "metadata": {},
   "source": [
    "<a id='Q1'></a>\n",
    "<div class=\" alert alert-warning\">\n",
    "    <h3><b>Student Question 1.1</b> Considering Linear Features (10 points) </h3> \n",
    "\n",
    "Would it be possible to learn accurately Q-values for the Cartpole problem using linear features (by passing the state directly to a linear regressor)? Why/why not?\n",
    "    \n",
    "**Hint: directly return 'state' in function 'featurize'**\n",
    "    \n",
    "🔝\t<a href='#TOC'><b>Table of Contents</b></a>\n",
    "</div>\n"
   ]
  },
  {
   "cell_type": "markdown",
   "id": "cecc979f",
   "metadata": {},
   "source": [
    "I don't think it would be possible since the Cartpole problem is a complex and high-dimensional control problem, and linear models typically struggle to capture the underlying dynamics and complexities of such problems."
   ]
  },
  {
   "cell_type": "markdown",
   "id": "c5a8edc7",
   "metadata": {},
   "source": [
    "<a id='Q2'></a>\n",
    "<div class=\" alert alert-warning\">\n",
    "    <h3><b>Student Question 1.2</b> Experience Replay Buffer (10 points) </h3> \n",
    "\n",
    "In Task 1, we collect observed states, actions, and rewards into an experience replay buffer. During training we randomly sample mini-batches from this buffer. \n",
    "    \n",
    "1.Why do we use the experience replay buffer, how does it affect the learning performance? \n",
    "    \n",
    "2.Why do we sample the mini-batches randomly?\n",
    "\n",
    "**Hint:** In machine learning, when training a model, we usually assume dataset includes i.i.d(independent and identically distributed) samples from a unknown distribution.\n",
    "    \n",
    "🔝\t<a href='#TOC'><b>Table of Contents</b></a>\n",
    "</div>\n"
   ]
  },
  {
   "cell_type": "markdown",
   "id": "494cdd70",
   "metadata": {},
   "source": [
    "1. Using an experience replay buffer in reinforcement learning can significantly influence the learning performance. It helps stabilize learning by reducing temporal correlations in consecutive experiences, which can lead to unstable training and convergence issues. By storing past experiences, the buffer allows the agent to revisit valuable lessons from the past, which helps to learn from mistakes and discover improved strategies over time. Experience replay also enhances data efficiency, enabling the agent to extract more information from each data point ans potentially reducing the number of interactions with the environment.\n",
    "\n",
    "2. Random sampling ensures that the samples in each mini-batch are independent and identically distributed (i.i.d), breaking temporal correlations between experiences and facilitating efficient convergence. Additionally, random mini-batch sampling exposes the model to a wide range of experiences, aiding better generalization, and preventing overfitting to specific sequences of experiences."
   ]
  },
  {
   "cell_type": "markdown",
   "id": "2a4793b0",
   "metadata": {},
   "source": [
    "<a id='Q3'></a>\n",
    "<div class=\" alert alert-warning\">\n",
    "    <h3><b>Student Question 1.3</b> Grid-based vs Function Approximators (10 points) </h3> \n",
    "\n",
    "In Exercise 3, we used grid-based Q-learning to balance the Cartpole. Are grid-based methods sample-efficient compared to the RBF function approximation methods? Why/why not?\n",
    "\n",
    "**Hint:** An algorithm is said to be sample-efficient when it requires less samples (data) to reach\n",
    "an optimal performance\n",
    "    \n",
    "🔝\t<a href='#TOC'><b>Table of Contents</b></a>\n",
    "</div>\n"
   ]
  },
  {
   "cell_type": "markdown",
   "id": "ed64fa0e",
   "metadata": {},
   "source": [
    "In general, no, grid-based methods are  not sample-efficient compared to RBF function approximation methods. Grid-based methods work well in low-dimensional, discrete state spaces but become inefficient in continuous or high-dimensional spaces due to the need for an extensive grid representation. RBF function approximation methods offer greater sample efficiency in complex environments with continuous and high-dimensional state spaces by using continuous functions for approximation and generalization."
   ]
  },
  {
   "cell_type": "markdown",
   "id": "223b9e0c",
   "metadata": {},
   "source": [
    "<a id='T2'></a>\n",
    "<div class=\" alert alert-warning\">\n",
    "    <h3><b>Student Task 2.</b> Visualizing the Policy (10 points) </h3> \n",
    "\n",
    "Create a 2D plot of policy (best action in terms of state) learned with RBF in terms of $x$ and θ for $\\dot{x} = 0$ and $\\dot{\\theta} = 0$, such that θ is on the horizontal axis and $x$ is on the vertical axis. The plot will be visualized below.\n",
    "\n",
    "**Hint 1 :** You can fix $\\dot{x} = 0$ and $\\dot{\\theta} = 0$ and discretize the state-space for $x$ and $\\theta$.\n",
    "\n",
    "**Hint 2 :** You can directly use the code in ***excercise 1 Task 4*** to visualize the policy.\n",
    "    \n",
    "**Hint 3 :** For CartPole environment state specifications, find them here https://gymnasium.farama.org/environments/classic_control/cart_pole/\n",
    "    \n",
    "🔝\t<a href='#TOC'><b>Table of Contents</b></a>\n",
    "</div>\n"
   ]
  },
  {
   "cell_type": "code",
   "execution_count": 47,
   "id": "797754bd-2a91-4b68-ab12-84dab27f100a",
   "metadata": {
    "tags": []
   },
   "outputs": [
    {
     "data": {
      "image/png": "[encoded data removed]",
      "text/plain": [
       "<Figure size 640x480 with 2 Axes>"
      ]
     },
     "metadata": {},
     "output_type": "display_data"
    }
   ],
   "source": [
    "import matplotlib.pyplot as plt\n",
    "import seaborn as sns\n",
    "\n",
    "# define and reload the RBF agent, which is trained with RBF feature!!!!\n",
    "with open(Path().cwd()/'cfg'/'cartpole_rbf.yaml', 'r') as f:\n",
    "    cfg = t.Struct(**yaml.safe_load(f))        \n",
    "agent = RBFAgent(n_actions=cfg.n_actions, gamma=cfg.gamma, batch_size=cfg.batch_size)\n",
    "agent.load(Path().cwd()/'results/CartPole-v1/model/')\n",
    "\n",
    "\n",
    "########## Your code starts here ##########\n",
    "# Discretize the state-space for x and theta\n",
    "npoints = 100\n",
    "state_range = np.linspace(-np.pi, np.pi, npoints)\n",
    "policy = np.zeros((npoints, npoints), dtype=np.int32)\n",
    "\n",
    "for i,x in enumerate(state_range):\n",
    "    for j,theta in enumerate(state_range):\n",
    "        # Create the state vector from th1, th2\n",
    "        state = np.array([x, 0, theta, 0])  #velocities=0\n",
    "\n",
    "        best_action=agent.get_action(state)        \n",
    "        policy[i, j] = best_action\n",
    "        \n",
    "\n",
    "\n",
    "num_ticks = 10\n",
    "tick_skip = max(1, npoints // num_ticks)\n",
    "tick_shift = 2*np.pi/npoints/2\n",
    "tick_points = np.arange(npoints)[::tick_skip] + tick_shift\n",
    "tick_labels = state_range.round(2)[::tick_skip]\n",
    "\n",
    "cmap = sns.color_palette(\"deep\", agent.n_actions)\n",
    "sns.heatmap(policy, cmap=cmap, vmin=0, vmax=agent.n_actions-1)\n",
    "\n",
    "colorbar = plt.gca().collections[0].colorbar\n",
    "ticks = np.array(range(agent.n_actions))*((agent.n_actions-1)/agent.n_actions)+0.5\n",
    "colorbar.set_ticks(ticks)\n",
    "labels = [\"Left\", \"Right\"]\n",
    "colorbar.set_ticklabels(labels)\n",
    "\n",
    "plt.xticks(tick_points, tick_labels, rotation=45)\n",
    "plt.yticks(tick_points, tick_labels, rotation=45)\n",
    "plt.xlabel(\"Theta (θ)\")\n",
    "plt.ylabel(\"x\")\n",
    "plt.title(\"Policy (Best Action) for ẋ=0 and θ̇=0\")\n",
    "plt.show()\n",
    "\n",
    "\n",
    "########## Your code ends here #############\n",
    "\n"
   ]
  },
  {
   "cell_type": "markdown",
   "id": "c88aa5e4-757d-49c8-9bec-3f23e7bc2f9f",
   "metadata": {
    "tags": []
   },
   "source": [
    "# 3. Submitting <a id='3.'></a>\n",
    "Ensure all tasks and questions (in ```ex4_dpn.ipynb``` and ```ex4_rbf.ipynb```) are answered and the necessary plots are saved in the appropriate locations. The relevant plots and files need to be included for this part of assignment are:\n",
    "\n",
    "\n",
    "- Training performance plots:\n",
    "  - `cartpole_hd.png`: Training performance of handcrafted feature plots in terms of episode and episodic reward\n",
    "  - `cartpole_rbf.png`: training performance of rbf feature plots in terms of episode and episodic reward \n",
    "<br>\n",
    "<br>\n",
    "\n",
    "  \n",
    "\n",
    "- Model files:\n",
    "  - `rbf.kpl`: Trained model\n",
    "\n",
    "\n",
    "Ensure the correct model files and plots are saved in paths:\n",
    "- ```results/CartPole-v1/cartpole_rbf.png``` Training result for Cartpole environment\n",
    "- ```results/CartPole-v1/cartpole_hd.png```  Training result for Cartpole environment\n",
    "- ```results/CartPole-v1/model/rbf.kpl``` Model for Cartpole environment\n",
    "\n",
    "\n",
    "<span style=\"color:red\"> **# IMPORTANT: DO NOT FORGET ANOTHER TASK IN ```ex4_dqn.ipynb```** </span>"
   ]
  },
  {
   "cell_type": "markdown",
   "id": "7dbc83ca-dbb0-4024-868e-6718a83e9bb2",
   "metadata": {
    "tags": []
   },
   "source": [
    "## 3.1 Feedback <a id='3.1'></a>\n",
    "\n",
    "In order to help the staff of the course as well as the forthcoming students, it would be great if you could answer to the following questions in your submission:"
   ]
  },
  {
   "cell_type": "markdown",
   "id": "eee27da8-ac20-488b-9d05-c03ed1f0f837",
   "metadata": {},
   "source": [
    "1) How much time did you spend solving this exercise? (change the ```hrs``` variable below to a floating point number representing the number of hours taken e.g. 5.43)"
   ]
  },
  {
   "cell_type": "code",
   "execution_count": null,
   "id": "f4a4e19d-39b6-466a-8fea-b63f91916cf5",
   "metadata": {
    "tags": []
   },
   "outputs": [],
   "source": [
    "hrs = 6"
   ]
  },
  {
   "cell_type": "markdown",
   "id": "dc128a60-a227-41b5-b6e0-531de2c3df1b",
   "metadata": {},
   "source": [
    "2) Difficulty of each task/question from 1-5 (int or float)"
   ]
  },
  {
   "cell_type": "code",
   "execution_count": null,
   "id": "c797f06b-bf2d-4305-abe2-e2773c6fb3d8",
   "metadata": {
    "tags": []
   },
   "outputs": [],
   "source": [
    "T1_a = 5   # Implementing Hand feature \n",
    "T2_b = 5   # Implementing RBF feature \n",
    "Q1_1 = 4 # Question 1.1 Considering linear features (10 points)\n",
    "Q1_2 = 4 # Question 1.2 Experience replay (10 points)\n",
    "Q1_3 = 4 # Question 1.3 Grid vs Function (10 points)\n",
    "Q2 = 5 # Question 2 Policy visualization (10 points)"
   ]
  },
  {
   "cell_type": "markdown",
   "id": "e6612842-e130-4658-adef-181218023449",
   "metadata": {},
   "source": [
    "3) How well did you understand the content of the task/question from 1-5? (int or float)"
   ]
  },
  {
   "cell_type": "code",
   "execution_count": null,
   "id": "5a5ea255-ca3f-4ee2-860c-147ff88373f7",
   "metadata": {
    "tags": []
   },
   "outputs": [],
   "source": [
    "T1_a = 4   # Implementing Hand feature \n",
    "T2_b = 4   # Implementing RBF feature \n",
    "Q1_1 = 4 # Question 1.1 Considering linear features (10 points)\n",
    "Q1_2 = 4 # Question 1.2 Experience replay (10 points)\n",
    "Q1_3 = 4 # Question 1.3 Grid vs Function (10 points)\n",
    "Q2 = 3 # Question 2 Policy visualization (10 points)"
   ]
  },
  {
   "cell_type": "markdown",
   "id": "77831fe1-f18d-4036-97a9-ad6d1adadfa2",
   "metadata": {},
   "source": [
    "4) General feedback. Consider questions like:\n",
    "\n",
    "    - Did the content of the lecture relate well with the assignment?\n",
    "    - To what extent did you find the material to be potentially useful for your research and studies?\n",
    "    \n",
    "Please share any additional feedback, suggestions, or comments you have about the lecture, assignment, or course content. Your input is valuable in helping us improve the learning experience."
   ]
  },
  {
   "cell_type": "markdown",
   "id": "6c8038fb-e038-4eac-87f3-ff28e0f94e9d",
   "metadata": {
    "tags": []
   },
   "source": [
    "DOUBLE CLICK HERE TO EDIT, CLEAR THIS TEXT AND ANSWER HERE"
   ]
  }
 ],
 "metadata": {
  "kernelspec": {
   "display_name": "Python 3",
   "language": "python",
   "name": "python3"
  },
  "language_info": {
   "codemirror_mode": {
    "name": "ipython",
    "version": 3
   },
   "file_extension": ".py",
   "mimetype": "text/x-python",
   "name": "python",
   "nbconvert_exporter": "python",
   "pygments_lexer": "ipython3",
   "version": "3.10.8"
  }
 },
 "nbformat": 4,
 "nbformat_minor": 5
}
