{
 "cells": [
  {
   "cell_type": "markdown",
   "id": "8323a86e",
   "metadata": {},
   "source": [
    "\n",
    "<div class=\"alert alert-block alert-info\">\n",
    "   <h2 align=\"center\"> <center><b> Reinforcement Learning Assignment 6 - Actor Critic part 1 </b></center></h2>\n",
    "\n",
    "<br>\n",
    "<center><font size=\"3\">This notebook is part of the teaching material for ELEC-E8125</font></center>\n",
    "<center><font size=\"3\">Sep 4, 2023 - Nov 30, 2023</font></center>\n",
    "<center><font size=\"3\">Aalto University</font></center>\n",
    "</div>\n",
    "\n",
    "\n",
    "<a id='TOC'></a>\n",
    "\n",
    "<div class=\"alert alert-block alert-success\">\n",
    "    \n",
    "# Table of contents\n",
    "* <a href='#1.'> 1. Introduction </a>\n",
    "* <a href='#1.1'> 1.1 Learning Objectives </a>\n",
    "* <a href='#1.2'> 1.2 Code Structure & Files </a>\n",
    "* <a href='#2.'> 2. Policy Gradient with a Critic </a>\n",
    "* <a href='#3.'> 3. Submitting </a>\n",
    "* <a href='#3.1'> 3.1 Feedback </a>\n",
    "* <a href='#4.'> References</a>\n",
    "\n",
    "<a href='#T1'><b>Student Task 1.</b> Implementing PG with critic (20 points)</a>\\\n",
    "<a href='#Q1'><b>Student Question 1.1</b> Relationship between actor-critic and REINFORCE with baseline (10 points)</a>\\\n",
    "<a href='#Q2'><b>Student Question 1.2</b> Advantage (5 points)  </a>\\\n",
    "<a href='#Q3'><b>Student Question 1.3</b> Bias and Variance Analysis (10 points) </a>\\\n",
    "<a href='#Q4'><b>Student Question 1.4</b> Controlling bias-variance tradeoff (10 points)</a>\n",
    "    \n",
    "**Total Points:** 55"
   ]
  },
  {
   "cell_type": "markdown",
   "id": "ab53631b",
   "metadata": {},
   "source": [
    "# 1. Introduction <a id='1.'></a>\n",
    "\n",
    "In this assignment, we will implement an actor-critic reinforcement learning algorithm which combines elements of both value-based methods (critic) and policy-based methods (actor) to improve learning and stability in the **InvertedPendulum-v4**  environment.\n",
    "\n",
    "## 1.1 Task environments: <a id='1.1'></a>\n",
    "\n",
    "In this exercise, we will focus on InvertedPendulum-v4 tasks:\n",
    "- InvertedPendulum-v4(https://www.gymlibrary.dev/environments/mujoco/inverted_pendulum/): This environment is similar to the cartpole environment but now powered by the Mujoco physics simulator - allowing for more complex experiments (such as varying the effects of gravity). This environment involves a cart that moves horizontally, with a pole fixed on the cart at one end and the other end of the pole moving freely. The cart can be pushed left or right. The goal is to move the pole such that it is vertically above the cart pointing straight up by applying horizontal forces on the cart.\n",
    "<figure style=\"text-align: center\">\n",
    "    <img src=\"imgs/InvertedPendulum.png\" width=\"300\"/>\n",
    "    <figcaption style=\"text-align: center\">  Figure 1: The InvertedPendulum-v4 environment. </figcaption>\n",
    "</figure>\n",
    "\n",
    "## 1.2 Learning Objectives: <a id='1.1'></a>\n",
    "\n",
    "- Understand the idea of actor-critic algorithms\n",
    "- Understand the limits and use cases of actor-critics\n",
    "\n",
    "## 1.3 Code Structure & Files <a id='1.2'></a>\n",
    "\n",
    "```ex6_PG_AC.ipynb``` is the file needed to be modified for this part of the assignment.  \n",
    "\n",
    "<span style=\"color:red\"> **# IMPORTANT: DO NOT FORGET ANOTHER PART IN ```ex6_DDPG.ipynb```** </span>\n",
    "\n",
    "```\n",
    "├───cfg                            # Config files for environments\n",
    "├───imgs                           # Images used in notebook\n",
    "├───results\n",
    "│   └───HalfCheetah-v4\n",
    "│   │   ├───logging                \n",
    "│   │   │    └───logging.pkl        # Contains logged data\n",
    "│   │   ├───model              \n",
    "│   │   │    └───*HalfCheetah-v4_params.pt    # Contains trained model\n",
    "│   │   └───video                   # Videos saved\n",
    "│   │   └───*ddpg.png               # Contains training performance plot\n",
    "│   └───InvertedPendulum-v4\n",
    "│   │   ├───logging                \n",
    "│   │   │    └───logging.pkl        # Contains logged data\n",
    "│   │   ├───model              \n",
    "│   │   │    └───*InvertedPendulum-v4_params.pt      # Contains trained model\n",
    "│   │   └───video                   # Videos saved\n",
    "│   │   └───*pg_ac.png              # Contains training performance plot\n",
    "│   ex6_DDPG.ipynb                  # 2nd assignment file containing tasks <---------\n",
    "│   ex6_PG_AC.ipynb                 # 1st assignment file containing tasks <---------This task\n",
    "│   train.py                        # Contains train and test functions \n",
    "│   utils.py                        # Contains useful functions \n",
    "└───buffer.py                       # Contains buffer functions\n",
    "```\n",
    "\n",
    "## 1.4 Execution time <a id='1.4'></a>\n",
    "\n",
    "The training of DDPG may take more than 15 mins depending on the server load. If you have problems with the training time, you can train locally."
   ]
  },
  {
   "cell_type": "markdown",
   "id": "eb79df48",
   "metadata": {},
   "source": [
    "\n",
    "# 2. Policy Gradient with a Critic <a id='2.'></a>"
   ]
  },
  {
   "cell_type": "markdown",
   "id": "c584d11d",
   "metadata": {},
   "source": [
    "<a id='T1'></a>\n",
    "<div class=\" alert alert-warning\">\n",
    "    <h3><b>Student Task 1.</b> Implement policy gradient (PG) with critic (20 points) </h3> \n",
    "\n",
    "Revisit the policy gradient solution for the InvertedPendulum from Exercise 5 with learned sigma if needed. Implement the actor-critic algorithm below. Perform TD(0) updates at the end of each episode. You can check the training performance plot in the result folder after running the plot cell. Take Figure 2 as a reference training plot. \n",
    "    \n",
    "**Hint:** Check out the PyTorch tutorial from Mycourses to see how to calculate the $A_\\theta \\Delta_\\theta \\log \\pi_\\theta(a_i|s_i)$ term using the ```detach()``` function. \n",
    "\n",
    "<figure style=\"text-align: center\">\n",
    "<img src=\"imgs/pg_ac.png\" width=\"400px\">\n",
    "<figcaption style=\"text-align: center\"> Figure 2: Training plot of the policy gradient with a critic.\n",
    "</figcaption>\n",
    "</figure>\n",
    "     \n",
    "**Complete the all the unfinished implementation in `PG` class (marked with ```TODOs```)**. \n",
    "    \n",
    "1. **Policy Network**: Finish the `__init__(self, state_dim, action_dim)` function and `forward(self, state)` function within the `Policy` class\n",
    "2. **Agent Update Function**: Finish the `update(self, )` function within the `PG` class\n",
    "3. **Get Action Method**: Finish the `get_action(self, observation, evaluation=False)` function within the `PG` class.\n",
    "    \n",
    "🔝\t<a href='#TOC'><b>Table of Contents</b></a>\n",
    "</div>\n"
   ]
  },
  {
   "cell_type": "code",
   "execution_count": 1,
   "id": "fad4384f",
   "metadata": {
    "tags": []
   },
   "outputs": [],
   "source": [
    "import sys, os\n",
    "sys.path.insert(0, os.path.abspath(\"..\"))\n",
    "import torch, yaml\n",
    "import torch.nn.functional as F\n",
    "from torch import nn\n",
    "from torch.distributions import Normal\n",
    "import numpy as np\n",
    "from pathlib import Path\n",
    "from IPython.display import Video\n",
    "\n",
    "\n",
    "import train as t\n",
    "import utils as u\n",
    "\n",
    "device = 'cpu'"
   ]
  },
  {
   "cell_type": "code",
   "execution_count": 2,
   "id": "a6634d41",
   "metadata": {
    "tags": []
   },
   "outputs": [],
   "source": [
    "# Actor-critic agent\n",
    "def layer_init(layer, std=np.sqrt(2), bias_const=0.0):\n",
    "    torch.nn.init.orthogonal_(layer.weight, std)\n",
    "    torch.nn.init.constant_(layer.bias, bias_const)\n",
    "    return layer\n",
    "\n",
    "class Policy(nn.Module):\n",
    "    def __init__(self, state_dim, action_dim):\n",
    "        super().__init__()\n",
    "        # Create a neural network and use it for the mean of the policy.\n",
    "        # The size of the neural network here has been chosen such that \n",
    "        # it is not too big but should perform well in the tasks we want to look at.\n",
    "        self.actor_mean = nn.Sequential(\n",
    "            layer_init(nn.Linear(state_dim, 64)), nn.Tanh(),\n",
    "            layer_init(nn.Linear(64, 64)), nn.Tanh(),\n",
    "            layer_init(nn.Linear(64, action_dim), std=0.01),\n",
    "        )\n",
    "        # TODO: Implement actor_logstd as a learnable parameter\n",
    "        # Use log of std to make sure std (standard deviation) of the policy\n",
    "        # doesn't become negative during training\n",
    "        \n",
    "        self.actor_logstd = nn.Parameter(torch.randn(action_dim))\n",
    "\n",
    "\n",
    "    def forward(self, state):\n",
    "        # Get mean of a Normal distribution (the output of the neural network)\n",
    "        action_mean = self.actor_mean(state)\n",
    "\n",
    "        # Make sure action_logstd matches dimensions of action_mean\n",
    "        action_logstd = self.actor_logstd.expand_as(action_mean)\n",
    "\n",
    "        # Exponentiate the log std to get actual std\n",
    "        action_std = torch.exp(action_logstd)\n",
    "\n",
    "        # TODO: Create a Normal distribution with mean of 'action_mean' and standard deviation of 'action_logstd', and return the distribution\n",
    "        probs = Normal(action_mean, action_std)\n",
    "\n",
    "        return probs\n",
    "\n",
    "class Value(nn.Module):\n",
    "    def __init__(self, state_dim):\n",
    "        super().__init__()\n",
    "        self.value = nn.Sequential(\n",
    "            layer_init(nn.Linear(state_dim, 64)), nn.Tanh(),\n",
    "            layer_init(nn.Linear(64, 64)), nn.Tanh(),\n",
    "            layer_init(nn.Linear(64, 1)))\n",
    "    \n",
    "    def forward(self, x):\n",
    "        return self.value(x).squeeze(1) # output shape [batch,]\n",
    "\n",
    "\n",
    "class PG(object):\n",
    "    def __init__(self, state_dim, action_dim, lr, gamma):\n",
    "        self.name = 'pg'\n",
    "        self.policy = Policy(state_dim, action_dim).to(device)\n",
    "        self.value = Value(state_dim).to(device)\n",
    "        self.optimizer = torch.optim.Adam(list(self.policy.parameters())+ list(self.value.parameters()), \n",
    "                                         lr=float(lr),)\n",
    "\n",
    "        self.gamma = gamma\n",
    "\n",
    "        # a simple buffer\n",
    "        self.states = []\n",
    "        self.action_probs = []\n",
    "        self.rewards = []\n",
    "        self.dones = []\n",
    "        self.next_states = []\n",
    "\n",
    "\n",
    "    def update(self,):\n",
    "        action_probs = torch.stack(self.action_probs, dim=0) \\\n",
    "                .to(device).squeeze(-1)\n",
    "        rewards = torch.stack(self.rewards, dim=0).to(device).squeeze(-1)\n",
    "        states = torch.stack(self.states, dim=0).to(device).squeeze(-1)\n",
    "        next_states = torch.stack(self.next_states, dim=0).to(device).squeeze(-1)\n",
    "        dones = torch.stack(self.dones, dim=0).to(device).squeeze(-1)\n",
    "        # clear buffer\n",
    "        self.states, self.action_probs, self.rewards, self.dones, self.next_states = [], [], [], [], []\n",
    "\n",
    "        # TODO:\n",
    "        ########## Your code starts here. ##########\n",
    "        # Hints: 1. calculate the TD target as well as the MSE loss between the predicted value and the TD target\n",
    "        #        2. calculate the policy loss (similar to ex5) with advantage calculated from the value function. Normalise\n",
    "        #           the advantage to zero mean and unit variance.\n",
    "        #        3. update parameters of the policy and the value function jointly\n",
    "\n",
    "\n",
    "        # calculate the target values\n",
    "        next_value=self.value(next_states)        \n",
    "        target_values = rewards + self.gamma * next_value  * (1 - dones)    \n",
    "\n",
    "        # calculate the critic_loss\n",
    "        values=self.value(states)\n",
    "        critic_loss = ((values- target_values)**2).mean()\n",
    "\n",
    "        # Advantage estimation\n",
    "        advantages = target_values - values.detach()\n",
    "        advantages_mean = advantages.mean()\n",
    "        advantages_std = advantages.std()\n",
    "        advantages = (advantages - advantages_mean)/(advantages_std + 1e-8)\n",
    "        \n",
    "        # Compute the optimization term \n",
    "        policy_loss = -(action_probs * advantages).mean()\n",
    "\n",
    "        # Compute the gradients of loss w.r.t. network parameters      \n",
    "        loss = policy_loss + critic_loss\n",
    "        \n",
    "        # Update network parameters using self.optimizer and zero gradients \n",
    "        self.optimizer.zero_grad()\n",
    "        loss.backward()\n",
    "        self.optimizer.step()\n",
    "\n",
    "        ########## Your code ends here. ##########\n",
    "\n",
    "        return {}\n",
    "\n",
    "\n",
    "    def get_action(self, observation, evaluation=False):\n",
    "        \"\"\"Return action (np.ndarray) and logprob (torch.Tensor) of this action.\"\"\"\n",
    "        if observation.ndim == 1: observation = observation[None] # add the batch dimension\n",
    "        x = torch.from_numpy(observation).float().to(device)\n",
    "\n",
    "        # TODO: Task 1\n",
    "        ########## Your code starts here. ##########\n",
    "        # Hints: 1. the self.policy returns a normal distribution, check the PyTorch document to see \n",
    "        #           how to calculate the log_prob of an action and how to sample.\n",
    "        #        2. if evaluating the policy, return policy mean, otherwise, return a sample\n",
    "        #        3. the returned action and the act_logprob should be torch.Tensors.\n",
    "        #            Please always make sure the shape of variables is as you expected.\n",
    "        \n",
    "        # calculate action\n",
    "        action_dist = self.policy(x)        \n",
    "        if evaluation:\n",
    "            action= action_dist.mean\n",
    "        else:\n",
    "            action = action_dist.sample() \n",
    "        \n",
    "        # calculate the log probability of the action\n",
    "        act_logprob = action_dist.log_prob(action).sum(dim=-1)\n",
    "        \n",
    "        ########## Your code ends here. ###########\n",
    "\n",
    "        return action, act_logprob\n",
    "\n",
    "\n",
    "    def record(self, observation, action_prob, next_observation, reward, done):\n",
    "        self.states.append(torch.tensor(observation, dtype=torch.float32))\n",
    "        self.action_probs.append(action_prob)\n",
    "        self.rewards.append(torch.tensor([reward], dtype=torch.float32))\n",
    "        self.dones.append(torch.tensor([done], dtype=torch.float32))\n",
    "        self.next_states.append(torch.tensor(next_observation, dtype=torch.float32))\n",
    "\n",
    "\n",
    "    def load(self, filepath):\n",
    "        d = torch.load(filepath)\n",
    "        self.policy.load_state_dict(d['policy'])\n",
    "        self.value.load_state_dict(d['value'])\n",
    "    \n",
    "    def save(self, filepath):\n",
    "        torch.save({\n",
    "            'policy': self.policy.state_dict(),\n",
    "            'value': self.value.state_dict(),\n",
    "        }, filepath)"
   ]
  },
  {
   "cell_type": "code",
   "execution_count": 3,
   "id": "8c6b02f2-891d-40c1-b01a-9bd370009a3a",
   "metadata": {
    "tags": []
   },
   "outputs": [],
   "source": [
    "# init agent\n",
    "with open(Path().cwd()/'cfg'/'pg_ac.yaml', 'r') as f:\n",
    "    cfg = u.Struct(**yaml.safe_load(f))\n",
    "    \n",
    "agent = PG(cfg.state_shape[0], cfg.action_dim, cfg.lr, cfg.gamma)"
   ]
  },
  {
   "cell_type": "code",
   "execution_count": 4,
   "id": "5fad7389",
   "metadata": {
    "tags": []
   },
   "outputs": [
    {
     "name": "stdout",
     "output_type": "stream",
     "text": [
      "Numpy/Torch/Random Seed:  696\n",
      "{'episode': 0, 'timesteps': 19, 'ep_reward': 19.0}\n",
      "{'episode': 50, 'timesteps': 15, 'ep_reward': 15.0}\n",
      "{'episode': 100, 'timesteps': 9, 'ep_reward': 9.0}\n",
      "{'episode': 150, 'timesteps': 14, 'ep_reward': 14.0}\n",
      "{'episode': 200, 'timesteps': 18, 'ep_reward': 18.0}\n",
      "{'episode': 250, 'timesteps': 12, 'ep_reward': 12.0}\n",
      "{'episode': 300, 'timesteps': 11, 'ep_reward': 11.0}\n",
      "{'episode': 350, 'timesteps': 15, 'ep_reward': 15.0}\n",
      "{'episode': 400, 'timesteps': 9, 'ep_reward': 9.0}\n",
      "{'episode': 450, 'timesteps': 12, 'ep_reward': 12.0}\n",
      "{'episode': 500, 'timesteps': 25, 'ep_reward': 25.0}\n",
      "{'episode': 550, 'timesteps': 11, 'ep_reward': 11.0}\n",
      "{'episode': 600, 'timesteps': 12, 'ep_reward': 12.0}\n",
      "{'episode': 650, 'timesteps': 33, 'ep_reward': 33.0}\n",
      "{'episode': 700, 'timesteps': 14, 'ep_reward': 14.0}\n",
      "{'episode': 750, 'timesteps': 16, 'ep_reward': 16.0}\n",
      "{'episode': 800, 'timesteps': 37, 'ep_reward': 37.0}\n",
      "{'episode': 850, 'timesteps': 25, 'ep_reward': 25.0}\n",
      "{'episode': 900, 'timesteps': 36, 'ep_reward': 36.0}\n",
      "{'episode': 950, 'timesteps': 28, 'ep_reward': 28.0}\n",
      "{'episode': 1000, 'timesteps': 20, 'ep_reward': 20.0}\n",
      "{'episode': 1050, 'timesteps': 15, 'ep_reward': 15.0}\n",
      "{'episode': 1100, 'timesteps': 74, 'ep_reward': 74.0}\n",
      "{'episode': 1150, 'timesteps': 26, 'ep_reward': 26.0}\n",
      "{'episode': 1200, 'timesteps': 23, 'ep_reward': 23.0}\n",
      "{'episode': 1250, 'timesteps': 47, 'ep_reward': 47.0}\n",
      "{'episode': 1300, 'timesteps': 70, 'ep_reward': 70.0}\n",
      "{'episode': 1350, 'timesteps': 53, 'ep_reward': 53.0}\n",
      "{'episode': 1400, 'timesteps': 58, 'ep_reward': 58.0}\n",
      "{'episode': 1450, 'timesteps': 84, 'ep_reward': 84.0}\n",
      "{'episode': 1500, 'timesteps': 26, 'ep_reward': 26.0}\n",
      "{'episode': 1550, 'timesteps': 29, 'ep_reward': 29.0}\n",
      "{'episode': 1600, 'timesteps': 39, 'ep_reward': 39.0}\n",
      "{'episode': 1650, 'timesteps': 32, 'ep_reward': 32.0}\n",
      "{'episode': 1700, 'timesteps': 25, 'ep_reward': 25.0}\n",
      "{'episode': 1750, 'timesteps': 24, 'ep_reward': 24.0}\n",
      "{'episode': 1800, 'timesteps': 30, 'ep_reward': 30.0}\n",
      "{'episode': 1850, 'timesteps': 43, 'ep_reward': 43.0}\n",
      "{'episode': 1900, 'timesteps': 31, 'ep_reward': 31.0}\n",
      "{'episode': 1950, 'timesteps': 33, 'ep_reward': 33.0}\n",
      "{'episode': 2000, 'timesteps': 107, 'ep_reward': 107.0}\n",
      "Saving model to /notebooks/rl2023/ex6/results/InvertedPendulum-v4/model/InvertedPendulum-v4_params.pt\n",
      "------ Training Finished ------\n",
      "Total traning time is 1.3931730724250277mins\n"
     ]
    }
   ],
   "source": [
    "t.train(agent, cfg_path=Path().cwd()/'cfg'/'pg_ac.yaml', cfg_args={})"
   ]
  },
  {
   "cell_type": "code",
   "execution_count": 5,
   "id": "f8041f0c-73f8-4f23-bbd2-4a976a8b842a",
   "metadata": {
    "tags": []
   },
   "outputs": [
    {
     "name": "stdout",
     "output_type": "stream",
     "text": [
      "Numpy/Torch/Random Seed:  960\n"
     ]
    },
    {
     "data": {
      "image/png": "[encoded data removed]",
      "text/plain": [
       "<Figure size 640x480 with 1 Axes>"
      ]
     },
     "metadata": {},
     "output_type": "display_data"
    }
   ],
   "source": [
    "t.plot(cfg_path=Path().cwd()/'cfg'/'pg_ac.yaml',)"
   ]
  },
  {
   "cell_type": "code",
   "execution_count": 6,
   "id": "91d4922b",
   "metadata": {
    "tags": []
   },
   "outputs": [
    {
     "name": "stdout",
     "output_type": "stream",
     "text": [
      "Numpy/Torch/Random Seed:  702\n",
      "Loading model from /notebooks/rl2023/ex6/results/InvertedPendulum-v4/model/InvertedPendulum-v4_params.pt ...\n",
      "Testing ...\n",
      "Moviepy - Building video /notebooks/rl2023/ex6/results/InvertedPendulum-v4/video/test/ex6-episode-0.mp4.\n",
      "Moviepy - Writing video /notebooks/rl2023/ex6/results/InvertedPendulum-v4/video/test/ex6-episode-0.mp4\n",
      "\n"
     ]
    },
    {
     "name": "stderr",
     "output_type": "stream",
     "text": [
      "                                                             \r"
     ]
    },
    {
     "name": "stdout",
     "output_type": "stream",
     "text": [
      "Moviepy - Done !\n",
      "Moviepy - video ready /notebooks/rl2023/ex6/results/InvertedPendulum-v4/video/test/ex6-episode-0.mp4\n",
      "Ep0: Test ep_reward is 52.0\n",
      "Ep1: Test ep_reward is 53.0\n",
      "Ep2: Test ep_reward is 47.0\n",
      "Ep3: Test ep_reward is 44.0\n",
      "Ep4: Test ep_reward is 52.0\n",
      "Ep5: Test ep_reward is 40.0\n",
      "Ep6: Test ep_reward is 44.0\n",
      "Ep7: Test ep_reward is 56.0\n",
      "Ep8: Test ep_reward is 52.0\n",
      "Moviepy - Building video /notebooks/rl2023/ex6/results/InvertedPendulum-v4/video/test/ex6-episode-9.mp4.\n",
      "Moviepy - Writing video /notebooks/rl2023/ex6/results/InvertedPendulum-v4/video/test/ex6-episode-9.mp4\n",
      "\n"
     ]
    },
    {
     "name": "stderr",
     "output_type": "stream",
     "text": [
      "                                                             \r"
     ]
    },
    {
     "name": "stdout",
     "output_type": "stream",
     "text": [
      "Moviepy - Done !\n",
      "Moviepy - video ready /notebooks/rl2023/ex6/results/InvertedPendulum-v4/video/test/ex6-episode-9.mp4\n",
      "Ep9: Test ep_reward is 57.0\n",
      "Average test reward: 49.7\n"
     ]
    }
   ],
   "source": [
    "t.test(agent, cfg_path=Path().cwd()/'cfg'/'pg_ac.yaml', cfg_args=dict(save_video=True,testing=True))"
   ]
  },
  {
   "cell_type": "code",
   "execution_count": 7,
   "id": "2edb556b-187c-4662-a1df-60dc87917930",
   "metadata": {
    "tags": []
   },
   "outputs": [
    {
     "data": {
      "text/html": [
       "<video loop autoplay  >\n",
       " <source src=\"data:video/mp4;base64,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\" type=\"video/mp4\">\n",
       " Your browser does not support the video tag.\n",
       " </video>"
      ],
      "text/plain": [
       "<IPython.core.display.Video object>"
      ]
     },
     "execution_count": 7,
     "metadata": {},
     "output_type": "execute_result"
    }
   ],
   "source": [
    "Video(Path().cwd()/'results'/'InvertedPendulum-v4'/'video'/'test'/'ex6-episode-9.mp4',\n",
    "      embed=True, html_attributes=\"loop autoplay\") # Set html_attributes=\"controls\" for video control"
   ]
  },
  {
   "cell_type": "markdown",
   "id": "7d432792",
   "metadata": {},
   "source": [
    "<a id='Q1'></a>\n",
    "<div class=\" alert alert-warning\">\n",
    "    <h3><b>Student Question 1.1</b> Relationship between actor-critic and REINFORCE with baseline (10 points) </h3> \n",
    "\n",
    "What is the relationship between actor-critic and REINFORCE with baseline?\n",
    "            \n",
    "🔝\t<a href='#TOC'><b>Table of Contents</b></a>\n",
    "</div>"
   ]
  },
  {
   "cell_type": "markdown",
   "id": "d837ef04",
   "metadata": {},
   "source": [
    "Both methods aim to improve an agent's decision-making policy by incorporating value estimation and variance reduction techniques. REINFORCE with baseline enhances the standard REINFORCE policy gradient method by adding a baseline (that can be the value function) to reduce policy update variance. Actor-critic, on the other hand, combines the learning of the policy (actor) with the estimation of expected future rewards (critic), offering a more stable and efficient approach by using the critic's value estimates to guide policy updates."
   ]
  },
  {
   "cell_type": "markdown",
   "id": "8b88b08e",
   "metadata": {
    "jupyter": {
     "source_hidden": true
    },
    "tags": []
   },
   "source": [
    "<a id='Q2'></a>\n",
    "<div class=\" alert alert-warning\">\n",
    "    <h3><b>Student Question 1.2</b> Advantage (5 points) </h3> \n",
    "\n",
    "How can the value of advantage be intuitively interpreted?\n",
    "    \n",
    "🔝\t<a href='#TOC'><b>Table of Contents</b></a>\n",
    "</div>"
   ]
  },
  {
   "cell_type": "markdown",
   "id": "aa3bac64",
   "metadata": {},
   "source": [
    "The advantage represents the difference between the estimated value of taking a particular action in a given state and the expected value of following the current policy in that state. In other words, it measures how much better or worse it is to choose a particular action instead of following the current policy."
   ]
  },
  {
   "cell_type": "markdown",
   "id": "a4db6c52",
   "metadata": {
    "tags": []
   },
   "source": [
    "<a id='Q3'></a>\n",
    "<div class=\" alert alert-warning\">\n",
    "    <h3><b>Student Question 1.3</b> Bias and Variance Analysis (10 points) </h3> \n",
    "\n",
    "How does the implemented actor-critic method compare to REINFORCE in terms of bias and variance of the policy gradient estimation? Explain your answer.    \n",
    "🔝\t<a href='#TOC'><b>Table of Contents</b></a>\n",
    "</div>"
   ]
  },
  {
   "cell_type": "markdown",
   "id": "106d5916",
   "metadata": {},
   "source": [
    "This policy gradient actor-critic (PG-AC) method exhibits lower bias compared to the REINFORCE algorithm. This is because PG-AC uses a value function (the critic) to estimate state values. The critic's value estimates provide a better baseline for policy updates, which helps reduce bias.\n",
    "\n",
    "However, PG-AC may have higher variance, particularly when the critic's value estimates are noisy. This is because both the actor and critic components introduce sources of variability into the updates. The critic's value estimates can have noise, and the actor's policy gradients may be subject to higher variance if the critic's estimates are not accurate."
   ]
  },
  {
   "cell_type": "markdown",
   "id": "c0ddf4e7",
   "metadata": {},
   "source": [
    "<a id='Q4'></a>\n",
    "<div class=\" alert alert-warning\">\n",
    "    <h3><b>Student Question 1.4</b> Controlling bias-variance tradeoff (10 points) </h3> \n",
    "\n",
    "How could the bias-variance tradeoff in actor-critic be controlled?\n",
    "    \n",
    "🔝\t<a href='#TOC'><b>Table of Contents</b></a>\n",
    "</div>"
   ]
  },
  {
   "cell_type": "markdown",
   "id": "03501249",
   "metadata": {},
   "source": [
    "An option is to normalize the advantages (like we did) to have a mean of zero and a unit variance. This normalization can help stabilize training and control the variance in policy updates. Another way is to experiment with different architectures for the critic network and hyperparameters to balance the bias-variance tradeoff, ensuring that the critic's estimates are accurate is essential for controlling variance."
   ]
  },
  {
   "cell_type": "markdown",
   "id": "edc1e91e-5715-45b9-a2c2-4e8f0fd2fff2",
   "metadata": {
    "tags": []
   },
   "source": [
    "# 3. Submitting <a id='3.'></a>\n",
    "Ensure all tasks and questions (in ```ex6_DDPG.ipynb``` and ```ex6_PG_AC.ipynb```) are answered and the necessary plots are saved in the appropriate locations. The relevant plots and files needed to be submitted for this assignment are:\n",
    "\n",
    "\n",
    "- Training performance plots:\n",
    "  - `pg_ac.png`: Training performance plots in terms of episode and episodic reward\n",
    "<br>\n",
    "\n",
    "  \n",
    "- Model files:\n",
    "  - `InvertedPendulum-v4_params.pt`: Trained model\n",
    "\n",
    "\n",
    "Ensure the model files and plots are saved in correct paths:\n",
    "- ```results/InvertedPendulum-v4/pg_ac.png``` Training result\n",
    "- ```results/InvertedPendulum-v4/model/InvertedPendulum-v4_params.pt``` Training Model\n",
    "\n",
    "\n",
    "<span style=\"color:red\"> **# IMPORTANT: DO NOT FORGET ANOTHER TASK IN ```ex6_DDPG.ipynb```** </span>"
   ]
  },
  {
   "cell_type": "markdown",
   "id": "88b0c6d7-563a-4037-9d4c-ef1422d7b657",
   "metadata": {
    "tags": []
   },
   "source": [
    "## 3.1 Feedback <a id='3.1'></a>\n",
    "\n",
    "In order to help the staff of the course as well as the forthcoming students, it would be great if you could answer to the following questions in your submission:"
   ]
  },
  {
   "cell_type": "markdown",
   "id": "de2e7c42-211b-419b-a3c9-daeab45597f1",
   "metadata": {},
   "source": [
    "1) How much time did you spend solving this exercise? (change the ```hrs``` variable below to a floating point number representing the number of hours taken e.g. 5.43)"
   ]
  },
  {
   "cell_type": "code",
   "execution_count": null,
   "id": "3cfa3e0a-f247-43f4-92cc-5b6e99c79049",
   "metadata": {
    "tags": []
   },
   "outputs": [],
   "source": [
    "hrs = 4"
   ]
  },
  {
   "cell_type": "markdown",
   "id": "83e49e4f-0803-4d11-9ac4-9f77bedfa52f",
   "metadata": {},
   "source": [
    "2) Difficulty of each task/question from 1-5 (int or float)"
   ]
  },
  {
   "cell_type": "code",
   "execution_count": null,
   "id": "f8fc5ed4-1957-4c5c-97fb-de2dc7c4362e",
   "metadata": {
    "tags": []
   },
   "outputs": [],
   "source": [
    "T1 = 4   # Implementing DDPG (20 points)\n",
    "Q1 = 3   # Question 1.1 Relationship between actor-critic and REINFORCE with baseline (10 points)\n",
    "Q2 = 2   # Question 1.2 Advantage (5 points)\n",
    "Q3 = 4   # Question 1.3 Bias and Variance Analysis (10 points)\n",
    "Q4 = 4   # Question 1.4 Controlling bias-variance tradeoff (10 points)"
   ]
  },
  {
   "cell_type": "markdown",
   "id": "a8f6cdd1-ea58-4a06-a81b-1d7cc36f14a2",
   "metadata": {},
   "source": [
    "3) How well did you understand the content of the task/question from 1-5? (int or float)"
   ]
  },
  {
   "cell_type": "code",
   "execution_count": null,
   "id": "27706e2f-2a35-4a6e-ad07-9af944b96dfe",
   "metadata": {
    "tags": []
   },
   "outputs": [],
   "source": [
    "T1 = 4   # Implementing DDPG (20 points)\n",
    "Q1 = 4   # Question 1.1 Relationship between actor-critic and REINFORCE with baseline (10 points)\n",
    "Q2 = 4   # Question 1.2 Advantage (5 points)\n",
    "Q3 = 3   # Question 1.3 Bias and Variance Analysis (10 points)\n",
    "Q4 = 3   # Question 1.4 Controlling bias-variance tradeoff (10 points)"
   ]
  },
  {
   "cell_type": "markdown",
   "id": "bc810cc9-ba38-480d-a95e-178f875bc744",
   "metadata": {},
   "source": [
    "4) General feedback. Consider questions like:\n",
    "\n",
    "    - Did the content of the lecture relate well with the assignment?\n",
    "    - To what extent did you find the material to be potentially useful for your research and studies?\n",
    "    \n",
    "Please share any additional feedback, suggestions, or comments you have about the lecture, assignment, or course content. Your input is valuable in helping us improve the learning experience."
   ]
  },
  {
   "cell_type": "markdown",
   "id": "ce6d30ad-8d44-4fe5-a642-121200f920d1",
   "metadata": {
    "tags": []
   },
   "source": [
    "DOUBLE CLICK HERE TO EDIT, CLEAR THIS TEXT AND ANSWER HERE"
   ]
  },
  {
   "cell_type": "markdown",
   "id": "785254f3-48b6-44a6-ace6-0eae136d6396",
   "metadata": {},
   "source": [
    "# References <a id='4.'></a>\n",
    "Please use the following section to record references."
   ]
  },
  {
   "cell_type": "code",
   "execution_count": null,
   "id": "1be24169-8a32-4c87-9e15-3f6eee2364a9",
   "metadata": {},
   "outputs": [],
   "source": []
  }
 ],
 "metadata": {
  "kernelspec": {
   "display_name": "Python 3",
   "language": "python",
   "name": "python3"
  },
  "language_info": {
   "codemirror_mode": {
    "name": "ipython",
    "version": 3
   },
   "file_extension": ".py",
   "mimetype": "text/x-python",
   "name": "python",
   "nbconvert_exporter": "python",
   "pygments_lexer": "ipython3",
   "version": "3.10.8"
  }
 },
 "nbformat": 4,
 "nbformat_minor": 5
}
